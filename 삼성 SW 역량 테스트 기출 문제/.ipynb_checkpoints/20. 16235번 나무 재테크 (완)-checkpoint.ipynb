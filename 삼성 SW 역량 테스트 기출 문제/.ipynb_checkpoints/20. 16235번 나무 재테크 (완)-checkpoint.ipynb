{
 "cells": [
  {
   "cell_type": "markdown",
   "metadata": {},
   "source": [
    "# https://www.acmicpc.net/problem/16235"
   ]
  },
  {
   "cell_type": "code",
   "execution_count": 25,
   "metadata": {
    "scrolled": false
   },
   "outputs": [
    {
     "name": "stdout",
     "output_type": "stream",
     "text": [
      "85\n"
     ]
    }
   ],
   "source": [
    "# N, M, K = map(int, input().split(' '))\n",
    "# maps = [list(map(int, input().split(' '))) for _ in range(N)]\n",
    "# command = [list(map(int, input().split(' '))) for _ in range(M)]\n",
    "\n",
    "# N, M, K = 5, 2, 1\n",
    "# maps = [[2, 3, 2, 3, 2], [2, 3, 2, 3, 2], [2, 3, 2, 3, 2], [2, 3, 2, 3, 2], [2, 3, 2, 3, 2]]\n",
    "# command = [[2, 1, 3], [3, 2, 3]]\n",
    "## 2\n",
    "\n",
    "# N, M, K = 5, 2, 2\n",
    "# maps = [[2, 3, 2, 3, 2], [2, 3, 2, 3, 2], [2, 3, 2, 3, 2], [2, 3, 2, 3, 2], [2, 3, 2, 3, 2]]\n",
    "# command = [[2, 1, 3], [3, 2, 3]]\n",
    "## 15\n",
    "\n",
    "# N, M, K = 5, 2, 3\n",
    "# maps = [[2, 3, 2, 3, 2], [2, 3, 2, 3, 2], [2, 3, 2, 3, 2], [2, 3, 2, 3, 2], [2, 3, 2, 3, 2]]\n",
    "# command = [[2, 1, 3], [3, 2, 3]]\n",
    "## 13\n",
    "\n",
    "# N, M, K = 5, 2, 4\n",
    "# maps = [[2, 3, 2, 3, 2], [2, 3, 2, 3, 2], [2, 3, 2, 3, 2], [2, 3, 2, 3, 2], [2, 3, 2, 3, 2]]\n",
    "# command = [[2, 1, 3], [3, 2, 3]]\n",
    "## 13\n",
    "\n",
    "# N, M, K = 5, 2, 5\n",
    "# maps = [[2, 3, 2, 3, 2], [2, 3, 2, 3, 2], [2, 3, 2, 3, 2], [2, 3, 2, 3, 2], [2, 3, 2, 3, 2]]\n",
    "# command = [[2, 1, 3], [3, 2, 3]]\n",
    "## 13\n",
    "\n",
    "N, M, K = 5, 2, 6\n",
    "maps = [[2, 3, 2, 3, 2], [2, 3, 2, 3, 2], [2, 3, 2, 3, 2], [2, 3, 2, 3, 2], [2, 3, 2, 3, 2]]\n",
    "command = [[2, 1, 3], [3, 2, 3]]\n",
    "## 85\n",
    "\n",
    "from collections import deque\n",
    "\n",
    "energy = [[5 for _ in range(N)] for _ in range(N)]\n",
    "trees = [[deque() for _ in range(N)] for _ in range(N)]\n",
    "answer = 0\n",
    "\n",
    "dx = (-1, -1, -1, 0, 0, 1, 1, 1)\n",
    "dy = (-1, 0, 1, -1, 1, -1, 0, 1)\n",
    "\n",
    "for x, y, old in command:\n",
    "    trees[x-1][y-1].append(old)\n",
    "    answer += 1\n",
    "    \n",
    "for year in range(K):\n",
    "    for i in range(N):\n",
    "        for j in range(N):\n",
    "            temp = deque([])\n",
    "            add_energy = 0\n",
    "            \n",
    "            while trees[i][j]:\n",
    "                data = trees[i][j].popleft()\n",
    "                if data <= energy[i][j]:\n",
    "                    energy[i][j] -= data\n",
    "                    temp.append(data+1)\n",
    "                    \n",
    "                else:\n",
    "                    add_energy += data // 2\n",
    "                    answer -= 1\n",
    "                    while trees[i][j]:\n",
    "                        data = trees[i][j].popleft()\n",
    "                        add_energy += data // 2\n",
    "                        answer -= 1\n",
    "                    break\n",
    "                    \n",
    "            trees[i][j] = temp\n",
    "            energy[i][j] += add_energy + maps[i][j]\n",
    "    \n",
    "    for i in range(N):\n",
    "        for j in range(N):\n",
    "            for k in range(len(trees[i][j])-1, -1, -1):\n",
    "                if trees[i][j][k] < 5:\n",
    "                    break\n",
    "                    \n",
    "                elif trees[i][j][k] % 5 == 0:\n",
    "                    for num in range(8):\n",
    "                        if 0<=i+dx[num]<N and 0<=j+dy[num]<N:\n",
    "                            trees[i+dx[num]][j+dy[num]].appendleft(1)\n",
    "                            answer += 1\n",
    "print(answer)"
   ]
  },
  {
   "cell_type": "markdown",
   "metadata": {},
   "source": [
    "# 해설\n",
    "위에 2중 for문에 봄 여름 겨울에 대한 처리를 한번에 해주고\n",
    "\n",
    "밑에 2중 for문에는 가을에 대한 자료만 처리를 해주는 식으로 for문으로 돌리면된다.\n",
    "\n",
    "pypy3로 컴파일해야 통과할수 있으며, python3으로 할경우에는 시간초과가 발생한다."
   ]
  }
 ],
 "metadata": {
  "kernelspec": {
   "display_name": "Python 3",
   "language": "python",
   "name": "python3"
  },
  "language_info": {
   "codemirror_mode": {
    "name": "ipython",
    "version": 3
   },
   "file_extension": ".py",
   "mimetype": "text/x-python",
   "name": "python",
   "nbconvert_exporter": "python",
   "pygments_lexer": "ipython3",
   "version": "3.8.1"
  }
 },
 "nbformat": 4,
 "nbformat_minor": 4
}
