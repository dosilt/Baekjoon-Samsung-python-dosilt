{
 "cells": [
  {
   "cell_type": "markdown",
   "metadata": {},
   "source": [
    "# https://www.acmicpc.net/problem/14889"
   ]
  },
  {
   "cell_type": "code",
   "execution_count": 4,
   "metadata": {},
   "outputs": [
    {
     "name": "stdout",
     "output_type": "stream",
     "text": [
      "8\n",
      "0 5 4 5 4 5 4 5\n",
      "4 0 5 1 2 3 4 5\n",
      "9 8 0 1 2 3 1 2\n",
      "9 9 9 0 9 9 9 9\n",
      "1 1 1 1 0 1 1 1\n",
      "8 7 6 5 4 0 3 2\n",
      "9 1 9 1 9 1 0 9\n",
      "6 5 4 3 2 1 9 0\n",
      "1\n"
     ]
    }
   ],
   "source": [
    "from itertools import combinations\n",
    "\n",
    "N = int(input())\n",
    "matrix = [0 for _ in range(N)]\n",
    "\n",
    "for i in range(N):\n",
    "    matrix[i] = list(map(int, input().split(' ')))\n",
    "\n",
    "members = list(range(N))\n",
    "\n",
    "teams = list(combinations(members, N//2))\n",
    "left = 0\n",
    "right = len(teams)-1\n",
    "answer = float('inf')\n",
    "\n",
    "while left < right:\n",
    "    l = 0\n",
    "    r = 0\n",
    "    for i in range(len(teams[left])):\n",
    "        for j in range(len(teams[left])):\n",
    "            if i != j:\n",
    "                l += matrix[teams[left][i]][teams[left][j]]\n",
    "                r += matrix[teams[right][i]][teams[right][j]]\n",
    "    answer = min(answer, abs(l-r))\n",
    "    left += 1\n",
    "    right -= 1\n",
    "    \n",
    "print(answer)"
   ]
  },
  {
   "cell_type": "markdown",
   "metadata": {},
   "source": [
    "# 해설\n",
    "위 문제는 사람들을 2팀으로 나눴을 때 2팀의 능력치 차이가 최소가 되게 나누고 그 차이의 값을\n",
    "\n",
    "return해 주는 문제이다.\n",
    "\n",
    "따라서 여기서는 combinations를 이용하여 N//2 명이 한 팀이 되도록 팀을 2개로 나누었다.\n",
    "\n",
    "여기서 사용한 트릭으로는 예를 들어 [1, 2, 3, 4] 라는 멤버가 있다고 생각하고 combinations([1, 2, 3, 4], 2) 를\n",
    "\n",
    "진행 했을 경우 나눠지는 방식은\n",
    "\n",
    "[1, 2], [1, 3], [1, 4], [2, 3], [2, 4], [3, 4]\n",
    "\n",
    "이런 식으로 나눠진다.\n",
    "\n",
    "위에 식에서 규칙을 찾아보자면, 첫번째와 마지막 팀을 더하면 전체 멤버가 된다. 두번째와 마지막 전 팀을 더해도 전체 멤버가 된다.\n",
    "\n",
    "6번 모두 계산하는 것이 아닌 중복을 없애기 위해 절반인 3까지만 계산하면 된다.\n",
    "\n",
    "위 코드의 left, right가 이런 규칙을 이용하기 위해 사용되었다.\n",
    "\n",
    "이후에는 matrix로 부터 능력치를 가져와서 더하기 연산을 한 것 밖에 없다."
   ]
  },
  {
   "cell_type": "code",
   "execution_count": null,
   "metadata": {},
   "outputs": [],
   "source": []
  }
 ],
 "metadata": {
  "kernelspec": {
   "display_name": "Python 3",
   "language": "python",
   "name": "python3"
  },
  "language_info": {
   "codemirror_mode": {
    "name": "ipython",
    "version": 3
   },
   "file_extension": ".py",
   "mimetype": "text/x-python",
   "name": "python",
   "nbconvert_exporter": "python",
   "pygments_lexer": "ipython3",
   "version": "3.8.1"
  }
 },
 "nbformat": 4,
 "nbformat_minor": 4
}
