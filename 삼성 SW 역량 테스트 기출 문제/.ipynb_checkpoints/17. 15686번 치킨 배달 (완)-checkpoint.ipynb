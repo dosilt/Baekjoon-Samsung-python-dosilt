{
 "cells": [
  {
   "cell_type": "code",
   "execution_count": 49,
   "metadata": {},
   "outputs": [
    {
     "name": "stdout",
     "output_type": "stream",
     "text": [
      "11\n"
     ]
    }
   ],
   "source": [
    "# 0은 빈 칸, 1은 집, 2는 치킨집이다.\n",
    "\n",
    "# N, company = list(map(int, input().split(' ')))\n",
    "# matrix = [0 for _ in range(N)]\n",
    "# for i in range(N):\n",
    "#     matrix[i] = list(map(int, input().split(' ')))\n",
    "    \n",
    "# N, company = 5, 3\n",
    "# matrix = [[0, 0, 1, 0, 0],\n",
    "#          [0, 0, 2, 0, 1],\n",
    "#          [0, 1, 2, 0, 0],\n",
    "#          [0, 0, 1, 0, 0],\n",
    "#          [0, 0, 0, 0, 2]]\n",
    "\n",
    "# N, company = 5, 2\n",
    "# matrix = [[0, 2, 0, 1, 0],\n",
    "#          [1, 0, 1, 0, 0],\n",
    "#          [0, 0, 0, 0, 0],\n",
    "#          [2, 0, 0, 1, 1],\n",
    "#          [2, 2, 0, 1, 2]]\n",
    "\n",
    "N, company = 5, 1\n",
    "matrix = [[1, 2, 0, 0, 0],\n",
    "[1, 2, 0, 0, 0],\n",
    "[1, 2, 0, 0, 0],\n",
    "[1, 2, 0, 0, 0],\n",
    "[1, 2, 0, 0, 0]]\n",
    "\n",
    "from collections import deque\n",
    "from itertools import combinations\n",
    "\n",
    "homes = deque([])\n",
    "shops = deque([])\n",
    "\n",
    "for i in range(N):\n",
    "    for j in range(N):\n",
    "        if matrix[i][j] == 0:\n",
    "            continue\n",
    "        if matrix[i][j] == 1:\n",
    "            homes.append((i, j))\n",
    "        elif matrix[i][j] == 2:\n",
    "            shops.append((i, j))\n",
    "\n",
    "shops = list(combinations(shops, company))\n",
    "dis = float('inf')\n",
    "\n",
    "for shop in shops: # combination의 결과로 N개 씩 가게를 묶음\n",
    "    answer = [float('inf') for _ in range(len(homes))]\n",
    "    for s_x, s_y in shop: # 가게의 좌표를 불러옴\n",
    "        for count, data in enumerate(homes): # 집의 좌표를 불러옴\n",
    "            h_x, h_y = data\n",
    "            answer[count] = min(answer[count], abs(s_x-h_x) + abs(s_y-h_y)) # 집에서 가장 가까운 가게의 거리만 저장\n",
    "    dis = min(dis, sum(answer))\n",
    "    \n",
    "print(dis)"
   ]
  },
  {
   "cell_type": "markdown",
   "metadata": {},
   "source": [
    "# 해설\n",
    "가장 간단하게 생각할 수 있는 방법으로 모든 shop중에서 무작위로 M 개를 선택하여\n",
    "\n",
    "거리를 각각 나타낸 후에 모든 케이스 별로 최소 거리를 계산하여 최소값만 print한다."
   ]
  },
  {
   "cell_type": "code",
   "execution_count": null,
   "metadata": {},
   "outputs": [],
   "source": []
  }
 ],
 "metadata": {
  "kernelspec": {
   "display_name": "Python 3",
   "language": "python",
   "name": "python3"
  },
  "language_info": {
   "codemirror_mode": {
    "name": "ipython",
    "version": 3
   },
   "file_extension": ".py",
   "mimetype": "text/x-python",
   "name": "python",
   "nbconvert_exporter": "python",
   "pygments_lexer": "ipython3",
   "version": "3.8.1"
  }
 },
 "nbformat": 4,
 "nbformat_minor": 4
}
