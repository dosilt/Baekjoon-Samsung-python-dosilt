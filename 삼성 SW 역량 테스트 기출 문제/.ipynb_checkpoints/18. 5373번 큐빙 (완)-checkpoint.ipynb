{
 "cells": [
  {
   "cell_type": "markdown",
   "metadata": {},
   "source": [
    "# https://www.acmicpc.net/problem/5373"
   ]
  },
  {
   "cell_type": "code",
   "execution_count": 56,
   "metadata": {
    "scrolled": false
   },
   "outputs": [
    {
     "name": "stdout",
     "output_type": "stream",
     "text": [
      "rww\n",
      "rww\n",
      "rww\n",
      "bbb\n",
      "www\n",
      "ggg\n",
      "gwg\n",
      "owr\n",
      "bwb\n",
      "gwo\n",
      "www\n",
      "rww\n"
     ]
    }
   ],
   "source": [
    "# command_count = int(input())\n",
    "# d = dict()\n",
    "# for i in range(command_count):\n",
    "#     a = int(input())\n",
    "#     d[i] = list(input().split(' '))\n",
    "\n",
    "command_count = 4\n",
    "d = dict()\n",
    "d[0] = ['L-']\n",
    "d[1] = ['F+', 'B+']\n",
    "d[2] = ['U-', 'D-', 'L+', 'R+']\n",
    "d[3] = ['L-', 'U-', 'L+', 'U-', 'L-', 'U-', 'U-', 'L+', 'U+', 'U+']\n",
    "    \n",
    "# 윗 면은 흰색, 아랫 면은 노란색, 앞 면은 빨간색, 뒷 면은 오렌지색, 왼쪽 면은 초록색, 오른쪽 면은 파란색\n",
    "cubes = [[[0 for _ in range(3)] for _ in range(3)] for _ in range(6)]\n",
    "\n",
    "def init():\n",
    "    colors = {0:'w', 1:'g', 2:'r', 3:'b', 4:'y', 5:'o'}\n",
    "    for color in range(6):\n",
    "        for i in range(3):\n",
    "            for j in range(3):\n",
    "                cubes[color][i][j] = colors[color]\n",
    "\n",
    "def area_rotate(area_number):\n",
    "    import copy\n",
    "    new_cube = copy.deepcopy(cubes[area_number])\n",
    "    for i in range(3):\n",
    "        for j in range(3):\n",
    "            cubes[area_number][i][j] = new_cube[2-j][i]\n",
    "    \n",
    "def actions(com, area_number):\n",
    "    temp = [0, 0, 0]\n",
    "    for num in range(5):\n",
    "        num = num % 4\n",
    "        area = com[0][num]\n",
    "        for count, data in enumerate(com[1][num*3:num*3+3]):\n",
    "            x, y = data\n",
    "            cubes[area][x][y], temp[count] = temp[count], cubes[area][x][y]\n",
    "    area_rotate(area_number)\n",
    "    \n",
    "command = {'F': [[0, 3, 4, 1], [[2, 0], [2, 1], [2, 2], [0, 0], [1, 0], [2, 0], [0, 2], [0, 1], [0, 0], [2, 2], [1, 2], [0, 2]]],\n",
    "           'B': [[0, 1, 4, 3], [[0, 2], [0, 1], [0, 0], [0, 0], [1, 0], [2, 0], [2, 0], [2, 1], [2, 2], [2, 2], [1, 2], [0, 2]]],\n",
    "           'U': [[5, 3, 2, 1], [[2, 0], [2, 1], [2, 2], [0, 2], [0, 1], [0, 0], [0, 2], [0, 1], [0, 0], [0, 2], [0, 1], [0, 0]]],\n",
    "           'D': [[5, 1, 2, 3], [[0, 2], [0, 1], [0, 0], [2, 0], [2, 1], [2, 2], [2, 0], [2, 1], [2, 2], [2, 0], [2, 1], [2, 2]]],\n",
    "           'L': [[0, 2, 4, 5], [[0, 0], [1, 0], [2, 0], [0, 0], [1, 0], [2, 0], [0, 0], [1, 0], [2, 0], [0, 0], [1, 0], [2, 0]]],\n",
    "           'R': [[0, 5, 4, 2], [[2, 2], [1, 2], [0, 2], [2, 2], [1, 2], [0, 2], [2, 2], [1, 2], [0, 2], [2, 2], [1, 2], [0, 2]]]}\n",
    "\n",
    "counting = {'+':1, '-':3}\n",
    "\n",
    "area_numbers = {'F':2, 'B':5, 'U':0, 'D':4, 'L':1, 'R':3}\n",
    "\n",
    "for i in range(command_count):\n",
    "    init()\n",
    "    for action in d[i]:\n",
    "        com = command[action[0]]\n",
    "        area_number = area_numbers[action[0]]\n",
    "\n",
    "        rotate = counting[action[1]]\n",
    "\n",
    "        for _ in range(rotate):\n",
    "            actions(com, area_number)\n",
    "    \n",
    "    for aa in cubes[0]:\n",
    "        print(''.join(aa))"
   ]
  },
  {
   "cell_type": "markdown",
   "metadata": {},
   "source": [
    "# 해설\n",
    "큐브의 회전에 따른 배열 위치 변화에 대해 잘 파악한다면 문제를 해결 할 수 있다.\n",
    "\n",
    "처음에 실수로 안했던 부분이 있는데 회전 면의 색또한 변경을 해주어야 한다는 것이다 (def area_rotate)\n",
    "\n",
    "이 코드는 다른 사람들 보다 느린 속도를 보이는데 혼자 생각만 해본 이유로는\n",
    "\n",
    "1. 1차원 배열을 이용해도 충분히 풀수 있는 문제이기 때문에 현재는 2차원을 사용했지만 1차원을 쓰면 좀 더 빨라 질거라 생각한다.\n",
    "\n",
    "\n",
    "\n",
    "2. U+, U- 이런 + - 에 대한 구별을 하지 않았으며 CW 면 1번만 실행 CCW 면 3번을 실행한다. 즉 불필요하게 2번이 추가로 실행된다.\n",
    "\n",
    "위 2가지의 문제를 해결한다면 속도가 꽤나 빨라질거라 생각한다."
   ]
  },
  {
   "cell_type": "code",
   "execution_count": null,
   "metadata": {},
   "outputs": [],
   "source": []
  }
 ],
 "metadata": {
  "kernelspec": {
   "display_name": "Python 3",
   "language": "python",
   "name": "python3"
  },
  "language_info": {
   "codemirror_mode": {
    "name": "ipython",
    "version": 3
   },
   "file_extension": ".py",
   "mimetype": "text/x-python",
   "name": "python",
   "nbconvert_exporter": "python",
   "pygments_lexer": "ipython3",
   "version": "3.8.1"
  }
 },
 "nbformat": 4,
 "nbformat_minor": 4
}
