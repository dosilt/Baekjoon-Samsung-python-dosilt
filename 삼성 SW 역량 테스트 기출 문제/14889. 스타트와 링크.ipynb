{
 "cells": [
  {
   "cell_type": "code",
   "execution_count": 4,
   "metadata": {},
   "outputs": [
    {
     "name": "stdout",
     "output_type": "stream",
     "text": [
      "8\n",
      "0 5 4 5 4 5 4 5\n",
      "4 0 5 1 2 3 4 5\n",
      "9 8 0 1 2 3 1 2\n",
      "9 9 9 0 9 9 9 9\n",
      "1 1 1 1 0 1 1 1\n",
      "8 7 6 5 4 0 3 2\n",
      "9 1 9 1 9 1 0 9\n",
      "6 5 4 3 2 1 9 0\n",
      "1\n"
     ]
    }
   ],
   "source": [
    "from itertools import combinations\n",
    "\n",
    "N = int(input())\n",
    "matrix = [0 for _ in range(N)]\n",
    "\n",
    "for i in range(N):\n",
    "    matrix[i] = list(map(int, input().split(' ')))\n",
    "\n",
    "members = list(range(N))\n",
    "\n",
    "teams = list(combinations(members, N//2))\n",
    "left = 0\n",
    "right = len(teams)-1\n",
    "answer = float('inf')\n",
    "while left < right:\n",
    "    l = 0\n",
    "    r = 0\n",
    "    for i in range(len(teams[left])):\n",
    "        for j in range(len(teams[left])):\n",
    "            if i != j:\n",
    "                l += matrix[teams[left][i]][teams[left][j]]\n",
    "                r += matrix[teams[right][i]][teams[right][j]]\n",
    "    answer = min(answer, abs(l-r))\n",
    "    left += 1\n",
    "    right -= 1\n",
    "print(answer)"
   ]
  },
  {
   "cell_type": "code",
   "execution_count": 50,
   "metadata": {},
   "outputs": [],
   "source": [
    "# 4\n",
    "# 0 1 2 3\n",
    "# 4 0 5 6\n",
    "# 7 1 0 2\n",
    "# 3 4 5 0\n",
    "## 0\n",
    "\n",
    "# 6\n",
    "# 0 1 2 3 4 5\n",
    "# 1 0 2 3 4 5\n",
    "# 1 2 0 3 4 5\n",
    "# 1 2 3 0 4 5\n",
    "# 1 2 3 4 0 5\n",
    "# 1 2 3 4 5 0\n",
    "## 2\n",
    "\n",
    "# 8\n",
    "# 0 5 4 5 4 5 4 5\n",
    "# 4 0 5 1 2 3 4 5\n",
    "# 9 8 0 1 2 3 1 2\n",
    "# 9 9 9 0 9 9 9 9\n",
    "# 1 1 1 1 0 1 1 1\n",
    "# 8 7 6 5 4 0 3 2\n",
    "# 9 1 9 1 9 1 0 9\n",
    "# 6 5 4 3 2 1 9 0\n",
    "## 1"
   ]
  },
  {
   "cell_type": "code",
   "execution_count": 80,
   "metadata": {},
   "outputs": [
    {
     "name": "stdout",
     "output_type": "stream",
     "text": [
      "7 5\n",
      "10 9\n",
      "6 6\n",
      "6 6\n",
      "9 10\n",
      "5 7\n",
      "0\n"
     ]
    }
   ],
   "source": [
    "# N = int(input().strip())\n",
    "# matrix = [0 for _ in range(N)]\n",
    "# for i in range(N):\n",
    "#     matrix[i] = list(map(int, input().strip().split(' ')))\n",
    "import copy\n",
    "\n",
    "def calc(team, members, matrix):\n",
    "    global answer\n",
    "    temp = copy.deepcopy(members)\n",
    "    for i in team:\n",
    "        temp.remove(i)\n",
    "    team1_score = 0\n",
    "    team2_score = 0\n",
    "    for a in range(len(temp)):\n",
    "        for b in range(len(temp)):\n",
    "            team1_score += matrix[temp[a]][temp[b]]\n",
    "            team2_score += matrix[team[a]][team[b]]\n",
    "    print(team1_score, team2_score)\n",
    "    answer = min(answer, abs(team1_score-team2_score))\n",
    "    \n",
    "def make_team(team, members, matrix):\n",
    "    global count\n",
    "    \n",
    "    if len(team) == len(members)//2:\n",
    "        calc(team, members, matrix)\n",
    "        return\n",
    "    \n",
    "    for i in members:\n",
    "        if i not in team1:\n",
    "            team.append(i)\n",
    "            make_team(team, members, matrix)\n",
    "            team.remove(i)\n",
    "        else:\n",
    "            return\n",
    "\n",
    "N = 4\n",
    "count = 0\n",
    "matrix = [[0, 1, 2, 3], [4, 0, 5, 6], [7, 1, 0, 2], [3, 4, 5, 0]]\n",
    "members = list(range(N))\n",
    "team1 = []\n",
    "answer = 0\n",
    "make_team(team1, members, matrix)\n",
    "print(answer)"
   ]
  },
  {
   "cell_type": "code",
   "execution_count": null,
   "metadata": {},
   "outputs": [],
   "source": []
  }
 ],
 "metadata": {
  "kernelspec": {
   "display_name": "Python 3",
   "language": "python",
   "name": "python3"
  },
  "language_info": {
   "codemirror_mode": {
    "name": "ipython",
    "version": 3
   },
   "file_extension": ".py",
   "mimetype": "text/x-python",
   "name": "python",
   "nbconvert_exporter": "python",
   "pygments_lexer": "ipython3",
   "version": "3.8.1"
  }
 },
 "nbformat": 4,
 "nbformat_minor": 4
}
