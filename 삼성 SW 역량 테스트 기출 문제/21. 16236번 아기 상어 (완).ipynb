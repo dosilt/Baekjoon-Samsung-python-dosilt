{
 "cells": [
  {
   "cell_type": "markdown",
   "metadata": {},
   "source": [
    "# https://www.acmicpc.net/problem/16236"
   ]
  },
  {
   "cell_type": "code",
   "execution_count": 48,
   "metadata": {
    "scrolled": false
   },
   "outputs": [
    {
     "name": "stdout",
     "output_type": "stream",
     "text": [
      "4\n",
      "4 3 2 1\n",
      "0 0 0 0\n",
      "0 0 9 0\n",
      "1 2 3 4\n",
      "14\n"
     ]
    }
   ],
   "source": [
    "N = int(input())\n",
    "matrix = [list(map(int, input().split(' '))) for _ in range(N)]\n",
    "\n",
    "# N = 3\n",
    "# matrix = [[0, 0, 0], [0, 0, 0], [0, 9, 0]]\n",
    "## 0\n",
    "\n",
    "# N = 3\n",
    "# matrix = [[0, 0, 1], [0, 0, 0], [0, 9, 0]]\n",
    "## 3\n",
    "\n",
    "# N = 4\n",
    "# matrix = [[4, 3, 2, 1], [0, 0, 0, 0], [0, 0, 9, 0], [1, 2, 3, 4]]\n",
    "# 14\n",
    "\n",
    "# N = 6\n",
    "# matrix = [[5, 4, 3, 2, 3, 4], [4, 3, 2, 3, 4, 5], [3, 2, 9, 5, 6, 6], [2, 1, 2, 3, 4, 5], [3, 2, 1, 6, 5, 4], [6, 6, 6, 6, 6, 6]]\n",
    "## 60\n",
    "\n",
    "# N = 6\n",
    "# matrix = [[6, 0, 6, 0, 6, 1], [0, 0, 0, 0, 0, 2], [2, 3, 4, 5, 6, 6], [0, 0, 0, 0, 0, 2], [0, 2, 0, 0, 0, 0], [3, 9, 3, 0, 0, 1]]\n",
    "## 48\n",
    "\n",
    "# N = 6\n",
    "# matrix = [[1, 1, 1, 1, 1, 1], [2, 2, 6, 2, 2, 3], [2, 2, 5, 2, 2, 3], [2, 2, 2, 4, 6, 3], [0, 0, 0, 0, 0, 6], [0, 0, 0, 0, 0, 9]]\n",
    "## 39\n",
    "# 탐색 우선 순위 위쪽 >> 왼쪽 >> 오른쪽 >> 아래쪽\n",
    "\n",
    "from collections import deque\n",
    "\n",
    "for i in range(N):\n",
    "    for j in range(N):\n",
    "        if matrix[i][j] == 9:\n",
    "            shark = deque([(i, j, 0)])\n",
    "            matrix[i][j] = 0\n",
    "            \n",
    "shark_size = 2\n",
    "shark_eat = 0\n",
    "answer = 0\n",
    "visited = [[False for _ in range(N)] for _ in range(N)]\n",
    "\n",
    "def bfs(shark, shark_size, visited):\n",
    "    dx = (-1, 0, 0, 1)\n",
    "    dy = (0, -1, 1, 0)\n",
    "    temp = deque()\n",
    "    while shark:\n",
    "        x, y, dis = shark.popleft()\n",
    "        \n",
    "        if 0 < matrix[x][y] < shark_size:\n",
    "            matrix[x][y] = 0\n",
    "            return dis, x, y\n",
    "        \n",
    "        for i in range(4):\n",
    "            nx = x+dx[i]\n",
    "            ny = y+dy[i]\n",
    "            \n",
    "            if 0<=nx<N and 0<=ny<N and matrix[nx][ny] <= shark_size and visited[nx][ny] == False:\n",
    "                temp.append((nx, ny, dis+1))\n",
    "                visited[nx][ny] = True\n",
    "    return temp, 0, 0\n",
    "\n",
    "while True:\n",
    "    shark, x, y = bfs(shark, shark_size, visited)\n",
    "    if str(type(shark)) == \"<class 'int'>\":\n",
    "        visited = [[False for _ in range(N)] for _ in range(N)]\n",
    "        answer += shark\n",
    "        shark = deque([(x, y, 0)])\n",
    "        shark_eat += 1\n",
    "        if shark_size == shark_eat:\n",
    "            shark_size += 1\n",
    "            shark_eat = 0\n",
    "        \n",
    "    elif not shark:\n",
    "        break\n",
    "    \n",
    "    shark = deque(sorted(shark, key=lambda x:[x[0], x[1]]))\n",
    "print(answer)"
   ]
  },
  {
   "cell_type": "markdown",
   "metadata": {},
   "source": [
    "# 해설\n",
    "문제를 풀기위해 BFS를 이용하였는데 단순히 함수를 지속적으로 돌려서 BFS를 구현했다기 보단\n",
    "\n",
    "현재 위치에서 갈수있는 위치 4군데를 queue에 append 한뒤 갈 수 있는 모든 곳을 return 받은 이후에\n",
    "\n",
    "위쪽 >> 왼쪽 >> 오른쪽 >> 아래쪽 순서대로 우선순위를 주어 sort 한 이후에 다시 BFS를 실행하는 형식으로\n",
    "\n",
    "코드를 구현하였다. 문제에서 주어진 우선순위가 저 순서이므로 순서대로 하지 않을 경우 오답이 나오게 된다.\n",
    "\n",
    "저 부분만 조심해서 코딩한다면 다른 부분에서 문제가 발생하진 않을 것이다."
   ]
  },
  {
   "cell_type": "code",
   "execution_count": null,
   "metadata": {},
   "outputs": [],
   "source": []
  }
 ],
 "metadata": {
  "kernelspec": {
   "display_name": "Python 3",
   "language": "python",
   "name": "python3"
  },
  "language_info": {
   "codemirror_mode": {
    "name": "ipython",
    "version": 3
   },
   "file_extension": ".py",
   "mimetype": "text/x-python",
   "name": "python",
   "nbconvert_exporter": "python",
   "pygments_lexer": "ipython3",
   "version": "3.8.1"
  }
 },
 "nbformat": 4,
 "nbformat_minor": 4
}
