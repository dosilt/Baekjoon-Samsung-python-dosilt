{
 "cells": [
  {
   "cell_type": "markdown",
   "metadata": {},
   "source": [
    "# https://www.acmicpc.net/problem/14502"
   ]
  },
  {
   "cell_type": "code",
   "execution_count": 38,
   "metadata": {
    "scrolled": true
   },
   "outputs": [
    {
     "name": "stdout",
     "output_type": "stream",
     "text": [
      "27\n"
     ]
    }
   ],
   "source": [
    "# row, col = list(map(int, input().split(' ')))\n",
    "# matrix = [list(map(int, input().split(' '))) for i in range(row)]\n",
    "\n",
    "row, col = 7, 7\n",
    "matrix = [[2, 0, 0, 0, 1, 1, 0],\n",
    "[0, 0, 1, 0, 1, 2, 0],\n",
    "[0, 1, 1, 0, 1, 0, 0],\n",
    "[0, 1, 0, 0, 0, 0, 0],\n",
    "[0, 0, 0, 0, 0, 1, 1],\n",
    "[0, 1, 0, 0, 0, 0, 0],\n",
    "[0, 1, 0, 0, 0, 0, 0]]\n",
    "\n",
    "from collections import deque\n",
    "import copy\n",
    "\n",
    "answer = 0\n",
    "\n",
    "def spread_virus(row, col, maps, virus_loc, area):\n",
    "    global answer\n",
    "    dx = (-1, 1, 0, 0)\n",
    "    dy = (0, 0, -1, 1)\n",
    "    q = copy.deepcopy(virus_loc)\n",
    "    ans = 0\n",
    "    while q:\n",
    "        x, y = q.popleft()\n",
    "        for i in range(4):\n",
    "            nx = x + dx[i]\n",
    "            ny = y + dy[i]\n",
    "            \n",
    "            if 0<=nx<row and 0<=ny<col and maps[nx][ny] == 0:\n",
    "                maps[nx][ny] = 2\n",
    "                q.append((nx, ny))\n",
    "        ans += 1\n",
    "                \n",
    "    answer = max(answer, area-ans+len(virus_loc))\n",
    "            \n",
    "    \n",
    "def make_wall(row, col, matrix, count):\n",
    "    possi = []\n",
    "    virus_loc = deque()\n",
    "\n",
    "    for i in range(row):\n",
    "        for j in range(col):\n",
    "            if matrix[i][j] == 0:\n",
    "                possi.append((i, j))\n",
    "            elif matrix[i][j] == 2:\n",
    "                virus_loc.append((i, j))\n",
    "                \n",
    "    from itertools import combinations\n",
    "    area = len(possi)\n",
    "    walls = list(combinations(possi, 3))\n",
    "\n",
    "    for wall in walls:\n",
    "        maps = copy.deepcopy(matrix)\n",
    "        for x, y in wall:\n",
    "            maps[x][y] = 1\n",
    "        spread_virus(row, col, maps, virus_loc, area-3)\n",
    "            \n",
    "            \n",
    "make_wall(row, col, matrix, 0)\n",
    "print(answer)"
   ]
  },
  {
   "cell_type": "markdown",
   "metadata": {},
   "source": [
    "# 해설\n",
    "개인적으로 깔끔한 문제는 아닌것 같다.\n",
    "\n",
    "우선 벽을 3개까지 세울수 있다는 조건하에 벽을 세울 수 있는 위치를 possi라는 변수에 등록한다.\n",
    "\n",
    "possi라는 변수에 들어간 데이터를 이용하여 combinations를 이용하여 총 3개를 뽑는다\n",
    "\n",
    "뽑아낸 3개에 벽을 세운후에 bfs 를 이용하여 바이러스를 퍼트린다.\n",
    "\n",
    "이후 바이러스가 전파되지 않은 위치의 개수를 카운트 하며 가장 카운트의 수가 큰 값을 return 한다."
   ]
  },
  {
   "cell_type": "code",
   "execution_count": null,
   "metadata": {},
   "outputs": [],
   "source": []
  }
 ],
 "metadata": {
  "kernelspec": {
   "display_name": "Python 3",
   "language": "python",
   "name": "python3"
  },
  "language_info": {
   "codemirror_mode": {
    "name": "ipython",
    "version": 3
   },
   "file_extension": ".py",
   "mimetype": "text/x-python",
   "name": "python",
   "nbconvert_exporter": "python",
   "pygments_lexer": "ipython3",
   "version": "3.8.1"
  }
 },
 "nbformat": 4,
 "nbformat_minor": 4
}
