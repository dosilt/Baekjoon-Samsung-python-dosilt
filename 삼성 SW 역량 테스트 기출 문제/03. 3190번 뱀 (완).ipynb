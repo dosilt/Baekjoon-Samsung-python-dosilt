{
 "cells": [
  {
   "cell_type": "markdown",
   "metadata": {},
   "source": [
    "# https://www.acmicpc.net/problem/3190"
   ]
  },
  {
   "cell_type": "code",
   "execution_count": null,
   "metadata": {},
   "outputs": [],
   "source": [
    "from collections import deque\n",
    "N = int(input())\n",
    "\n",
    "apple = set()\n",
    "for i in range(int(input())):\n",
    "    apple.add(tuple(map(int, input().split(' '))))\n",
    "    \n",
    "command = []\n",
    "for i in range(int(input())):\n",
    "    command.append(input().split(' '))\n",
    "    \n",
    "loc = deque([[1, 1]])\n",
    "time = 0\n",
    "\n",
    "direct = 1 # 오른쪽 왼쪽으로 회전할 때 바뀌는 방향에 맞게 dx, dy 를 설정해 놨으며 시작은 오른쪽이므로 dx=0, dy=1이 된다.\n",
    "           # dx = row(위, 아래), dy = col(좌, 우)\n",
    "\n",
    "dx = (-1, 0, 1, 0)\n",
    "dy = (0, 1, 0, -1)\n",
    "\n",
    "while True:\n",
    "    if command and time == int(command[0][0]): # 명령어의 시간과 현재 시간이 같으면\n",
    "        if command[0][1] == 'D': # 방향 전환\n",
    "            direct = (direct + 5) % 4\n",
    "        else:\n",
    "            direct = (direct + 3) % 4\n",
    "        command.pop(0)\n",
    "        \n",
    "    new_loc = (loc[-1][0]+dx[direct], loc[-1][1]+dy[direct])\n",
    "    time += 1\n",
    "    \n",
    "    if 1<=new_loc[0]<N+1 and 1<=new_loc[1]<N+1: # 다음 위치가 조건에 맞고\n",
    "        if new_loc in apple: # 사과가 있으면 뱀에는 append만 하고 사과를 지운다\n",
    "            loc.append(new_loc)\n",
    "            apple.remove(new_loc)\n",
    "            \n",
    "        elif new_loc in loc: # 몸에 부딪혔을 경우 break\n",
    "            break\n",
    "            \n",
    "        else: # 사과가 없으면 다음 위치를 append하고 맨 뒤 위치를 pop한다.\n",
    "            loc.popleft()\n",
    "            loc.append(new_loc)\n",
    "            \n",
    "    else: # 다음위치가 조건에 맞지 않으면 break (조건 = 벽에 부딪혔다.)\n",
    "        break\n",
    "print(time)"
   ]
  },
  {
   "cell_type": "markdown",
   "metadata": {},
   "source": [
    "# 해설\n",
    "벽이나 자신의 몸에 부딪치지 않도록 조정하면 사과를 계속 먹는 뱀 게임에서\n",
    "\n",
    "뱀의 action에 대한 command를 주어주고 몇 초 후에 게임 오버 되는지에 대해 \n",
    "\n",
    "묻는 문제이다.\n",
    "\n",
    "위 풀이 방식\n",
    "\n",
    "1. 현재 위치를 loc라는 deque에 넣는다.\n",
    "2. 다음 위치를 loc에 append 한다.\n",
    "    1. 다음 위치에 사과가 있다면 append 하고 진행한다.\n",
    "    2. 다음 위치에 사과가 없다면 이전 위치를 pop 하고 진행한다.\n",
    "    3. 다음 위치가 벽이거나 자신의 몸이라면 시간을 print하고 종료한다.\n",
    "3. 명령어에 따른 시간이 되면 방향을 전환한다.\n",
    "\n",
    "위 조건대로 코딩을 구현한 것이다."
   ]
  },
  {
   "cell_type": "code",
   "execution_count": null,
   "metadata": {},
   "outputs": [],
   "source": []
  }
 ],
 "metadata": {
  "kernelspec": {
   "display_name": "Python 3",
   "language": "python",
   "name": "python3"
  },
  "language_info": {
   "codemirror_mode": {
    "name": "ipython",
    "version": 3
   },
   "file_extension": ".py",
   "mimetype": "text/x-python",
   "name": "python",
   "nbconvert_exporter": "python",
   "pygments_lexer": "ipython3",
   "version": "3.8.1"
  }
 },
 "nbformat": 4,
 "nbformat_minor": 4
}
