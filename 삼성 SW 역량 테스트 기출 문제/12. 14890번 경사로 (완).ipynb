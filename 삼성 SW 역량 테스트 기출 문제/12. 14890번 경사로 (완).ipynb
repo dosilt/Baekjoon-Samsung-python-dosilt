{
 "cells": [
  {
   "cell_type": "markdown",
   "metadata": {},
   "source": [
    "# https://www.acmicpc.net/problem/14890"
   ]
  },
  {
   "cell_type": "code",
   "execution_count": 4,
   "metadata": {},
   "outputs": [
    {
     "name": "stdout",
     "output_type": "stream",
     "text": [
      "3\n"
     ]
    }
   ],
   "source": [
    "def check(matrix, N):\n",
    "    global answer\n",
    "    visited = set()\n",
    "    for row in range(N):\n",
    "        ch = True\n",
    "        for col in range(1, N):\n",
    "            count = 1\n",
    "            diff = matrix[row][col-1] - matrix[row][col]\n",
    "            if diff == 0:\n",
    "                continue\n",
    "\n",
    "            elif diff == 1: # 앞에 값이 클 경우\n",
    "                if (row, col) in visited:\n",
    "                    ch = False\n",
    "                    break\n",
    "                visited.add((row, col))\n",
    "                for i in range(1, L):\n",
    "                    if col+i < N and matrix[row][col] == matrix[row][col+i] and (row, col+i) not in visited:\n",
    "                        count += 1\n",
    "                        visited.add((row, col+i))\n",
    "                    else:\n",
    "                        ch=False\n",
    "                        break\n",
    "                        \n",
    "            elif diff == -1: # 뒤에 값이 클 경우\n",
    "                if (row, col-1) in visited:\n",
    "                    ch = False\n",
    "                    break\n",
    "                visited.add((row, col-1))\n",
    "\n",
    "                for i in range(1, L):\n",
    "                    if col-1-i >= 0 and matrix[row][col-1] == matrix[row][col-1-i] and (row, col-1-i) not in visited:\n",
    "                        count += 1\n",
    "                        visited.add((row, col-1-i))\n",
    "                    else:\n",
    "                        ch=False\n",
    "                        break\n",
    "                        \n",
    "            else:\n",
    "                ch = False\n",
    "                break\n",
    "        if ch == True:\n",
    "            answer += 1\n",
    "            \n",
    "# N, L = list(map(int, input().strip().split(' ')))\n",
    "# matrix = [0 for _ in range(N)]\n",
    "# for i in range(N):\n",
    "#     matrix[i] = list(map(int, input().strip().split(' ')))\n",
    "\n",
    "N, L = 6, 2\n",
    "matrix = [[3, 3, 3, 3, 3, 3],\n",
    "         [2, 3, 3, 3, 3, 3],\n",
    "         [2, 2, 2, 3, 2, 3],\n",
    "         [1, 1, 1, 2, 2, 2],\n",
    "         [1, 1, 1, 3, 3, 1],\n",
    "         [1, 1, 2, 3, 3, 2]]\n",
    "\n",
    "# N, L = 6, 2\n",
    "# matrix = [[3, 2, 1, 1, 2, 3],\n",
    "#          [3, 2, 2, 1, 2, 3],\n",
    "#          [3, 2, 2, 2, 3, 3],\n",
    "#          [3, 3, 3, 3, 3, 3],\n",
    "#          [3, 3, 3, 3, 2, 2],\n",
    "#          [3, 3, 3, 3, 2, 2]]\n",
    "\n",
    "# N, L = 6, 3\n",
    "# matrix = [[3, 2, 1, 1, 2, 3],\n",
    "#          [3, 2, 2, 1, 2, 3],\n",
    "#          [3, 2, 2, 2, 3, 3],\n",
    "#          [3, 3, 3, 3, 3, 3],\n",
    "#          [3, 3, 3, 3, 2, 2],\n",
    "#          [3, 3, 3, 3, 2, 2]]\n",
    "\n",
    "answer = 0\n",
    "check(matrix, N)\n",
    "matrix = list(zip(*matrix))\n",
    "check(matrix, N)\n",
    "print(answer)"
   ]
  },
  {
   "cell_type": "markdown",
   "metadata": {},
   "source": [
    "# 해설\n",
    "경사가 있는 부분에 경사로를 건설하여 걸어갈 수 있게 만드는 것이 목적인 문제이다.\n",
    "\n",
    "이 문제를 해결하기 위해 row 별로 해석하는 것이 편하기 때문에\n",
    "\n",
    "기본 matrix에 대해 col 방향으로 해석하고 이후엔 기본 matrix를 transpose하여\n",
    "\n",
    "또다시 col 방향으로만 해석할 수 있도록 하였다.\n",
    "\n",
    "경사로를 만드는 방법으로는 예를들어\n",
    "\n",
    "3 2 2 2 2 3 이런 식으로 높낮이가 존재하고, L = 2 일 경우에는\n",
    "\n",
    "앞에서 부터 3 2 를 비교해서 앞에가 크기 때문에 뒤에 3 2 2 에 경사로가 생기는 지 확인해야된다.\n",
    "\n",
    "즉 경사로가 만들어졌는지에 대한 check용으로 visited라는 집합을 하나 만들었으며, 2열과 3열에 있는 2가\n",
    "\n",
    "아직 방문하지 않은 노드라면 다리를 건설할수있다.\n",
    "\n",
    "마지막 부분에 2 3 를 비교하면 뒤에가 크기 때문에 2 2 3 에 대해서 위의 방법을 다시 비교한다."
   ]
  },
  {
   "cell_type": "code",
   "execution_count": null,
   "metadata": {},
   "outputs": [],
   "source": []
  }
 ],
 "metadata": {
  "kernelspec": {
   "display_name": "Python 3",
   "language": "python",
   "name": "python3"
  },
  "language_info": {
   "codemirror_mode": {
    "name": "ipython",
    "version": 3
   },
   "file_extension": ".py",
   "mimetype": "text/x-python",
   "name": "python",
   "nbconvert_exporter": "python",
   "pygments_lexer": "ipython3",
   "version": "3.8.1"
  }
 },
 "nbformat": 4,
 "nbformat_minor": 4
}
