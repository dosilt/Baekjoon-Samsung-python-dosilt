{
 "cells": [
  {
   "cell_type": "markdown",
   "metadata": {},
   "source": [
    "# https://www.acmicpc.net/problem/12100"
   ]
  },
  {
   "cell_type": "code",
   "execution_count": 2,
   "metadata": {},
   "outputs": [
    {
     "name": "stdout",
     "output_type": "stream",
     "text": [
      "3\n",
      "2 2 2\n",
      "4 4 4\n",
      "8 8 8\n",
      "16\n"
     ]
    }
   ],
   "source": [
    "from collections import deque\n",
    "import copy\n",
    "n = int(input())\n",
    "matrix = [[0] for i in range(n)]\n",
    "\n",
    "for i in range(n):\n",
    "    matrix[i] = list(map(int, input().split()))\n",
    "\n",
    "q = deque()\n",
    "count = 0\n",
    "temp = 0\n",
    "\n",
    "def merge(x, y, dx, dy): # q에 추출한 데이터를 다시 matrix에 입력하는 과정이다.\n",
    "    while q:\n",
    "        data = q.popleft()\n",
    "        if matrix[x][y] == 0:\n",
    "            matrix[x][y] = data\n",
    "            \n",
    "        elif matrix[x][y] == data:\n",
    "            matrix[x][y] *= 2\n",
    "            x += dx\n",
    "            y += dy\n",
    "            \n",
    "        else:\n",
    "            x += dx\n",
    "            y += dy\n",
    "            matrix[x][y] = data\n",
    "    \n",
    "def get(i, j): # 한개의 row 또는 col 의 데이터를 q라는 deque에 추출하고 matrix에는 0을 넣어 둔다.\n",
    "    if matrix[i][j] != 0:\n",
    "        q.append(matrix[i][j])\n",
    "        matrix[i][j] = 0\n",
    "        \n",
    "def move(i): # 움직이는 방향에 따른 각기 다른 명령을 if문으로 셋팅\n",
    "    if i == 0: # up\n",
    "        for j in range(n):\n",
    "            for i in range(n):\n",
    "                get(i, j)\n",
    "            merge(0, j, 1, 0)\n",
    "                \n",
    "    elif i == 1: # down\n",
    "        for j in range(n):\n",
    "            for i in range(n-1, -1, -1):\n",
    "                get(i, j)\n",
    "            merge(n-1, j, -1, 0)\n",
    "            \n",
    "    elif i == 2: # left\n",
    "        for i in range(n):\n",
    "            for j in range(n):\n",
    "                get(i, j)\n",
    "            merge(i, 0, 0, 1)\n",
    "            \n",
    "    else: # right\n",
    "        for i in range(n):\n",
    "            for j in range(n-1, -1, -1):\n",
    "                get(i, j)\n",
    "            merge(i, n-1, 0, -1)\n",
    "\n",
    "def solve(count):\n",
    "    global matrix, temp\n",
    "    \n",
    "    if count == 5:\n",
    "        for i in range(n):\n",
    "            temp = max(temp, max(matrix[i]))\n",
    "        return\n",
    "        \n",
    "    sample = copy.deepcopy(matrix) # 원본 matrix 보존을 위해 필요하다\n",
    "        \n",
    "    for i in range(4):\n",
    "        move(i)\n",
    "        solve(count+1)\n",
    "        matrix = copy.deepcopy(sample) # 원본 matrix 보존을 위해 필요하다\n",
    "        \n",
    "        # 파이썬 같은 경우에는 list형의 데이터는 주소값을 공유하기 때문에 다른 함수 내에서 같은 변수 명으로 참조시 C언의 포인터\n",
    "        # 참조와 같은 효과를 가지기 때문에 데이터가 바뀐다.\n",
    "        # 즉, 위의 코드를 간단하게 해석하자면\n",
    "        # 왼 -> 왼 -> 왼 으로 3번 움직였다고 생각하는것이 아니라\n",
    "        # 저장 -> 왼 -> 저장 -> 왼 -> 저장 -> 왼\n",
    "        # 으로 생각해 볼 수 있으며, 결과가 나왔으면 dfs 에서 한칸 뒤로 나올때 matrix의 값도 이전으로 돌린다고 생각하면 된다.\n",
    "        \n",
    "solve(0)\n",
    "print(temp)"
   ]
  },
  {
   "cell_type": "markdown",
   "metadata": {},
   "source": [
    "# 해설\n",
    "어느정도 노가다가 필요한 문제 였던 것 같다.\n",
    "\n",
    "움직이는 방향에 따라 matrix의 데이터들 모두 queue에 집에 넣고 다시 matrix에 돌려 놓는 형식이다.\n",
    "\n",
    "예를 들어 데이터를 오른쪽으로 민다고 생각했을 때 queue에 row별로 데이터를 추출해야 될 것이다.\n",
    "\n",
    "queue에 하나의 row에 대한 데이터를 넣었으면 다시 queue에서 하나씩 빼면서 matrix에 돌려 놓는 것인데\n",
    "\n",
    "돌려 놓을 때 앞전의 값과 같으면 더해주고 아니면 col의 위치를 1개씩 더해준다."
   ]
  },
  {
   "cell_type": "code",
   "execution_count": null,
   "metadata": {},
   "outputs": [],
   "source": []
  }
 ],
 "metadata": {
  "kernelspec": {
   "display_name": "Python 3",
   "language": "python",
   "name": "python3"
  },
  "language_info": {
   "codemirror_mode": {
    "name": "ipython",
    "version": 3
   },
   "file_extension": ".py",
   "mimetype": "text/x-python",
   "name": "python",
   "nbconvert_exporter": "python",
   "pygments_lexer": "ipython3",
   "version": "3.8.1"
  }
 },
 "nbformat": 4,
 "nbformat_minor": 4
}
