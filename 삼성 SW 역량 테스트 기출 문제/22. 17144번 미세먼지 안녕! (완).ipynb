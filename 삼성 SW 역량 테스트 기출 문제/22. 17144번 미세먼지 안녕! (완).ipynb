{
 "cells": [
  {
   "cell_type": "markdown",
   "metadata": {},
   "source": [
    "# https://www.acmicpc.net/problem/17144"
   ]
  },
  {
   "cell_type": "code",
   "execution_count": 38,
   "metadata": {},
   "outputs": [
    {
     "name": "stdout",
     "output_type": "stream",
     "text": [
      "172\n"
     ]
    }
   ],
   "source": [
    "# row, col, T = list(map(int, input().split(' ')))\n",
    "# matrix = [list(map(int, input().split(' '))) for _ in range(row)]\n",
    "\n",
    "row, col, T = 7, 8, 5\n",
    "matrix = [[0, 0, 0, 0 ,0, 0, 0, 9], [0, 0, 0, 0, 3, 0, 0, 8], [-1, 0, 5, 0, 0, 0, 22, 0], [-1, 8, 0, 0, 0, 0, 0, 0], [0, 0, 0, 0, 0, 10, 43, 0], [0, 0, 5, 0, 15, 0, 0, 0], [0, 0, 40, 0, 0, 0, 20, 0]]\n",
    "## 188\n",
    "\n",
    "import copy\n",
    "\n",
    "def find_machine(matrix, row):\n",
    "    for i in range(row):\n",
    "        if matrix[i][0] == -1:\n",
    "            return i, i+1\n",
    "\n",
    "def spread(matrix, row, col):\n",
    "    dx = (-1, 1, 0, 0)\n",
    "    dy = (0, 0, -1, 1)\n",
    "    maps = copy.deepcopy(matrix)\n",
    "    for x in range(row):\n",
    "        for y in range(col):\n",
    "            if matrix[x][y] >= 5:\n",
    "                data = matrix[x][y] // 5\n",
    "                temp = 0\n",
    "                for i in range(4):\n",
    "                    nx = x + dx[i]\n",
    "                    ny = y + dy[i]\n",
    "                    \n",
    "                    if 0<=nx<row and 0<=ny<col and matrix[nx][ny] != -1:\n",
    "                        maps[nx][ny] += data\n",
    "                        temp += data\n",
    "                        \n",
    "                maps[x][y] -= temp\n",
    "    return maps\n",
    "\n",
    "def rotate(dx, dy, nx, ny, matrix, stop):\n",
    "    temp, matrix[nx][ny] = matrix[nx][ny], 0\n",
    "    i = 0\n",
    "    while True:\n",
    "        nx = nx + dx[i]\n",
    "        ny = ny + dy[i]\n",
    "        \n",
    "        if nx == stop and ny == 0:\n",
    "            break\n",
    "        \n",
    "        if 0<=nx<row and 0<=ny<col:\n",
    "            matrix[nx][ny], temp = temp, matrix[nx][ny]\n",
    "            \n",
    "        else:\n",
    "            nx = nx - dx[i]\n",
    "            ny = ny - dy[i]\n",
    "            i += 1\n",
    "    return matrix\n",
    "\n",
    "def act_machine(matrix, row, col, m_s, m_e):\n",
    "    dx = (0, -1, 0, 1)\n",
    "    dy = (1, 0, -1, 0)\n",
    "    nx, ny = m_s, 1\n",
    "    matrix = rotate(dx, dy, nx, ny, matrix, m_s)\n",
    "    \n",
    "    dx = (0, 1, 0, -1)\n",
    "    dy = (1, 0, -1, 0)\n",
    "    nx, ny = m_e, 1\n",
    "    matrix = rotate(dx, dy, nx, ny, matrix, m_e)\n",
    "    return matrix\n",
    "\n",
    "m_s, m_e = find_machine(matrix, row) # machine_start, machine_end\n",
    "\n",
    "for t in range(T):\n",
    "    matrix = spread(matrix, row, col)\n",
    "    matrix = act_machine(matrix, row, col, m_s, m_e)\n",
    "\n",
    "print(sum(sum(matrix, []))+2)"
   ]
  },
  {
   "cell_type": "markdown",
   "metadata": {},
   "source": [
    "# 해설\n",
    "아마 백준에서 삼성 문제를 위에서 부터 푼 사람이라면 나무 재태크 라는 문제와 뱀 이라는 문제를 풀었을 것이다.\n",
    "\n",
    "그 문제들에서 몇 가지 기능만 가져와서 풀면 쉽게 해결 할 수 있는 문제 였던 것 같다.\n",
    "\n",
    "우선 spread 부분은 먼지 농도가 5 이상인 부분만 퍼트리면 된다. 퍼트릴수 있는 곳에 퍼트리고 총 양은\n",
    "\n",
    "일정 해야 되기 때문에 초기 위치에서도 빼줘야 한다. 이 부분에서 중요한 것은 먼지가 퍼진 matrix와\n",
    "\n",
    "퍼지기 전 matrix는 서로 다른 matrix위에서 해야한다.\n",
    "\n",
    "이후 공기 청정기에 의해 반시계방향과 시계방향으로 회전 하는 부분인데\n",
    "\n",
    "저는 저 부분을 뱀처럼 하나를 저장하고 넣고 저장하고 넣고 즉\n",
    "\n",
    "[a, b, c, d] 가 있으면 a를 temp에 저장하고 그 이후에 함수 실행\n",
    "\n",
    "b, temp = temp, b -> 즉 b에 a가 들어가고 temp에는 b가 들어가는 식으로 진행하다가\n",
    "\n",
    "공기 청정기랑 같은 위치가 되면 temp에 들어간 미세먼지는 버린다 (정화된다)\n",
    "\n",
    "위 형식으로 코드를 진행하였다."
   ]
  },
  {
   "cell_type": "code",
   "execution_count": null,
   "metadata": {},
   "outputs": [],
   "source": []
  }
 ],
 "metadata": {
  "kernelspec": {
   "display_name": "Python 3",
   "language": "python",
   "name": "python3"
  },
  "language_info": {
   "codemirror_mode": {
    "name": "ipython",
    "version": 3
   },
   "file_extension": ".py",
   "mimetype": "text/x-python",
   "name": "python",
   "nbconvert_exporter": "python",
   "pygments_lexer": "ipython3",
   "version": "3.8.1"
  }
 },
 "nbformat": 4,
 "nbformat_minor": 4
}
