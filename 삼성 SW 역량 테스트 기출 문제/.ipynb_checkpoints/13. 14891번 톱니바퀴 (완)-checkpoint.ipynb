{
 "cells": [
  {
   "cell_type": "code",
   "execution_count": 2,
   "metadata": {},
   "outputs": [
    {
     "name": "stdout",
     "output_type": "stream",
     "text": [
      "[[1, 0], [0, 0], [0, -1], [1, 0]]\n",
      "[[0, 1], [1, 0], [1, 0], [0, 0]]\n",
      "7\n"
     ]
    }
   ],
   "source": [
    "# gears = ['' for _ in range(4)]\n",
    "# for i in range(len(gears)):\n",
    "#     gears[i] = input()\n",
    "# command = int(input())\n",
    "# action = [0 for _ in range(command)]\n",
    "# for i in range(command):\n",
    "#     action[i] = list(map(int, input().split(' ')))\n",
    "\n",
    "gears = ['10101111', '01111101', '11001110', '00000010']\n",
    "command = 2\n",
    "action = [[3, -1], [1, 1]]\n",
    "# rotate 1 == CW, -1 = CCW\n",
    "for gear, rotate in action:\n",
    "    com = [0 for i in range(3)]\n",
    "    for i in range(1, 4):\n",
    "        if gears[i-1][2] !=  gears[i][6]:\n",
    "            com[i-1] = [1, 0]\n",
    "        else:\n",
    "            com[i-1] = [0, 0]   \n",
    "    com.insert(gear-1, [0, rotate])\n",
    "    if rotate == 1:\n",
    "        gears[gear-1] = gears[gear-1][-1] + gears[gear-1][:-1]\n",
    "    else:\n",
    "        gears[gear-1] = gears[gear-1][1:] + gears[gear-1][0]\n",
    "        \n",
    "    \n",
    "    # com 이 1이면 같이 돌아감, com 이 0 이면 안돌아감\n",
    "    for i in range(gear, 4):\n",
    "        if com[i][0] == 1:\n",
    "            if com[i-1][1] == -1:\n",
    "                com[i][1] = 1\n",
    "                gears[i] = gears[i][-1] + gears[i][:-1]\n",
    "            else:\n",
    "                com[i][1] = -1\n",
    "                gears[i] = gears[i][1:] + gears[i][0]\n",
    "        else:\n",
    "            break\n",
    "            \n",
    "    for i in range(gear-2, -1, -1):\n",
    "        if com[i][0] == 1:\n",
    "            if com[i+1][1] == -1:\n",
    "                com[i][1] = 1\n",
    "                gears[i] = gears[i][-1] + gears[i][:-1]\n",
    "            else:\n",
    "                com[i][1] = -1\n",
    "                gears[i] = gears[i][1:] + gears[i][0]\n",
    "        else:\n",
    "            break\n",
    "answer = [int(g[0])*2**n for n, g in enumerate(gears)]\n",
    "print(sum(answer))"
   ]
  },
  {
   "cell_type": "markdown",
   "metadata": {},
   "source": [
    "# 해설\n",
    "톱니바퀴가 맞닿아 있는 부분의 극성이 서로 다를 경우 돌아가는 톱니의 반대 방향으로 돌아간다.\n",
    "\n",
    "즉 톱니바퀴가 돌기 전에 극성이 같은지 다른지에 대한 비교를 해야한다.\n",
    "\n",
    "위를 비교하기 위해 com 이라는 변수를 만들어서\n",
    "\n",
    "[회전여부, 회전방향] 이런 식으로 변수에 저장을 해두었다.\n",
    "\n",
    "회전 여부는 옆의 톱니와 극성이 다를경우 1 같은경우에는 0을 집어 넣는다\n",
    "\n",
    "따라서 action에 의해 돌아간 톱니부터 com 내부에 있는 회전 여부와 방향을 결정하여\n",
    "\n",
    "회전시킨다."
   ]
  },
  {
   "cell_type": "code",
   "execution_count": null,
   "metadata": {},
   "outputs": [],
   "source": []
  }
 ],
 "metadata": {
  "kernelspec": {
   "display_name": "Python 3",
   "language": "python",
   "name": "python3"
  },
  "language_info": {
   "codemirror_mode": {
    "name": "ipython",
    "version": 3
   },
   "file_extension": ".py",
   "mimetype": "text/x-python",
   "name": "python",
   "nbconvert_exporter": "python",
   "pygments_lexer": "ipython3",
   "version": "3.8.1"
  }
 },
 "nbformat": 4,
 "nbformat_minor": 4
}
