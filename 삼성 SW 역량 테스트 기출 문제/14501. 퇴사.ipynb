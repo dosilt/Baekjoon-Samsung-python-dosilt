{
 "cells": [
  {
   "cell_type": "code",
   "execution_count": 40,
   "metadata": {},
   "outputs": [
    {
     "name": "stdout",
     "output_type": "stream",
     "text": [
      "90\n"
     ]
    }
   ],
   "source": [
    "\n",
    "# days = int(input().strip())\n",
    "# works = [0 for _ in range(days)]\n",
    "# for i in range(days):\n",
    "#     works[i] = tuple(map(int, input().strip().split(' ')))\n",
    "\n",
    "# days = 7\n",
    "# works = [(3, 10), (5, 20), (1, 10), (1, 20), (2, 15), (4, 40), (2, 200)]\n",
    "\n",
    "# days = 10\n",
    "# works = [(1, 1), (1, 2), (1, 3), (1, 4), (1, 5), (1, 6), (1, 7), (1, 8), (1, 9), (1, 10)]\n",
    "\n",
    "# days = 10\n",
    "# works = [(5, 10), (5, 9), (5, 8), (5, 7), (5, 6), (5, 10), (5, 9), (5, 8), (5, 7), (5, 6)]\n",
    "\n",
    "days = 10\n",
    "works = [(5, 50), (4, 40), (3, 30), (2, 20), (1, 10), (1, 10), (2, 20), (3, 30), (4, 40), (5, 50)]\n",
    "\n",
    "dp = [0 for _ in range(days+1)]\n",
    "answer = 0\n",
    "for i in range(1, len(works)+1):\n",
    "    times, pay = works[i-1]\n",
    "    if i+times-1 <= len(works):\n",
    "        dp[i+times-1] = max(max(dp[:i]) + pay, dp[i+times-1])\n",
    "        answer = max(answer, dp[i+times-1])\n",
    "print(answer)"
   ]
  },
  {
   "cell_type": "code",
   "execution_count": null,
   "metadata": {},
   "outputs": [],
   "source": [
    "# 7\n",
    "# 3 10\n",
    "# 5 20\n",
    "# 1 10\n",
    "# 1 20\n",
    "# 2 15\n",
    "# 4 40\n",
    "# 2 200\n",
    "## 45\n",
    "\n",
    "# 10\n",
    "# 1 1\n",
    "# 1 2\n",
    "# 1 3\n",
    "# 1 4\n",
    "# 1 5\n",
    "# 1 6\n",
    "# 1 7\n",
    "# 1 8\n",
    "# 1 9\n",
    "# 1 10\n",
    "## 55\n",
    "\n",
    "# 10\n",
    "# 5 10\n",
    "# 5 9\n",
    "# 5 8\n",
    "# 5 7\n",
    "# 5 6\n",
    "# 5 10\n",
    "# 5 9\n",
    "# 5 8\n",
    "# 5 7\n",
    "# 5 6\n",
    "## 20\n",
    "\n",
    "# 10\n",
    "# 5 50\n",
    "# 4 40\n",
    "# 3 30\n",
    "# 2 20\n",
    "# 1 10\n",
    "# 1 10\n",
    "# 2 20\n",
    "# 3 30\n",
    "# 4 40\n",
    "# 5 50\n",
    "## 90"
   ]
  }
 ],
 "metadata": {
  "kernelspec": {
   "display_name": "Python 3",
   "language": "python",
   "name": "python3"
  },
  "language_info": {
   "codemirror_mode": {
    "name": "ipython",
    "version": 3
   },
   "file_extension": ".py",
   "mimetype": "text/x-python",
   "name": "python",
   "nbconvert_exporter": "python",
   "pygments_lexer": "ipython3",
   "version": "3.8.1"
  }
 },
 "nbformat": 4,
 "nbformat_minor": 4
}
