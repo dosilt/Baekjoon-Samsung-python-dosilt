{
 "cells": [
  {
   "cell_type": "markdown",
   "metadata": {},
   "source": [
    "# https://www.acmicpc.net/problem/14500"
   ]
  },
  {
   "cell_type": "code",
   "execution_count": 14,
   "metadata": {
    "scrolled": false
   },
   "outputs": [
    {
     "name": "stdout",
     "output_type": "stream",
     "text": [
      "19\n"
     ]
    }
   ],
   "source": [
    "# row, col = map(int, input().split(' '))\n",
    "# matrix = [list(map(int, input().split(' '))) for i in range(row)]\n",
    "\n",
    "row, col = 5, 5\n",
    "matrix = [[1, 2, 3, 4, 5], [5, 4, 3, 2, 1], [2, 3, 4, 5, 6], [6, 5, 4, 3, 2], [1, 2, 1, 2, 1]]\n",
    "\n",
    "shape = [((0, 0), (0, 1), (0, 2), (0, 3)), # ㅡ\n",
    "         ((0, 0), (1, 0), (2, 0), (3, 0)), # ㅣ\n",
    "         ((0, 0), (0, 1), (0, 2), (1, 0)), # ㄱ\n",
    "         ((0, 0), (0, 1), (0, 2), (1, 1)), \n",
    "         ((0, 0), (0, 1), (0, 2), (1, 2)), \n",
    "         ((1, 0), (1, 1), (1, 2), (0, 0)), # ㄴ\n",
    "         ((1, 0), (1, 1), (1, 2), (0, 1)), \n",
    "         ((1, 0), (1, 1), (1, 2), (0, 2)),\n",
    "         ((0, 0), (1, 0), (2, 0), (0, 1)), # ㅏ\n",
    "         ((0, 0), (1, 0), (2, 0), (1, 1)), \n",
    "         ((0, 0), (1, 0), (2, 0), (2, 1)),\n",
    "         ((0, 1), (1, 1), (2, 1), (0, 0)), # ㅓ\n",
    "         ((0, 1), (1, 1), (2, 1), (1, 0)), \n",
    "         ((0, 1), (1, 1), (2, 1), (2, 0)),\n",
    "         ((0, 0), (0, 1), (1, 0), (1, 1)), # ㅁ\n",
    "         ((0, 0), (0, 1), (1, 1), (1, 2)),\n",
    "         ((1, 0), (1, 1), (0, 1), (0, 2)),\n",
    "         ((0, 0), (1, 0), (1, 1), (2, 1)),\n",
    "         ((0, 1), (1, 1), (1, 0), (2, 0))]\n",
    "answer = 0\n",
    "\n",
    "for i in range(row):\n",
    "    for j in range(col):\n",
    "        for block in shape:\n",
    "            sum_ = 0\n",
    "            for n in range(4):\n",
    "                try:\n",
    "                    sum_ += matrix[block[n][0] + i][block[n][1] + j]\n",
    "                except:\n",
    "                    continue\n",
    "            answer = max(answer, sum_)\n",
    "print(answer)"
   ]
  },
  {
   "cell_type": "markdown",
   "metadata": {},
   "source": [
    "# 해설\n",
    "모양에 관해 각각의 데이터 위치를 선정해두고\n",
    "\n",
    "이를 돌면서 최대 값을 print 해주었다."
   ]
  },
  {
   "cell_type": "code",
   "execution_count": null,
   "metadata": {},
   "outputs": [],
   "source": []
  }
 ],
 "metadata": {
  "kernelspec": {
   "display_name": "Python 3",
   "language": "python",
   "name": "python3"
  },
  "language_info": {
   "codemirror_mode": {
    "name": "ipython",
    "version": 3
   },
   "file_extension": ".py",
   "mimetype": "text/x-python",
   "name": "python",
   "nbconvert_exporter": "python",
   "pygments_lexer": "ipython3",
   "version": "3.8.1"
  }
 },
 "nbformat": 4,
 "nbformat_minor": 4
}
