{
 "cells": [
  {
   "cell_type": "code",
   "execution_count": 32,
   "metadata": {
    "scrolled": false
   },
   "outputs": [
    {
     "name": "stdout",
     "output_type": "stream",
     "text": [
      "57\n"
     ]
    }
   ],
   "source": [
    "# 0인 경우에는 북쪽을, 1인 경우에는 동쪽을, 2인 경우에는 남쪽을, 3인 경우에는 서쪽\n",
    "\n",
    "# row, col = list(map(int, input().strip().split(' ')))\n",
    "# r_row, r_col, direct = list(map(int, input().strip().split(' ')))\n",
    "# matrix = [0 for _ in range(row)]\n",
    "# for i in range(row):\n",
    "#     matrix[i] = list(map(int, input().strip().split(' ')))\n",
    "\n",
    "def move(matrix, row, col, r_row, r_col, direct, di, dn, answer):\n",
    "    if matrix[r_row][r_col] == 0:\n",
    "        matrix[r_row][r_col] = 2\n",
    "        answer += 1\n",
    "    \n",
    "    for i in range(4):\n",
    "        direct = di[direct]\n",
    "        n_row = r_row + dn[direct][0]\n",
    "        n_col = r_col + dn[direct][1]\n",
    "        if n_row > row or n_row < 0 or n_col > col or n_col < 0:\n",
    "            continue\n",
    "        \n",
    "        if matrix[n_row][n_col] == 0:\n",
    "            return matrix, direct, n_row, n_col, answer\n",
    "        \n",
    "    ## 후진\n",
    "    r_row -= dn[direct][0]\n",
    "    r_col -= dn[direct][1]\n",
    "    \n",
    "    if matrix[r_row][r_col] == 1:\n",
    "        return matrix, 5, r_row, r_col, answer\n",
    "    \n",
    "    return matrix, direct, r_row, r_col, answer\n",
    "\n",
    "di = {0:3, 1:0, 2:1, 3:2}\n",
    "dn = {0:(-1, 0), 1:(0, 1), 2:(1, 0), 3:(0, -1)}\n",
    "answer = 0\n",
    "\n",
    "# row, col = 3, 3\n",
    "# r_row, r_col, direct = 1, 1, 0\n",
    "# matrix = [[1, 1, 1], [1, 0, 1], [1, 1, 1]]\n",
    "\n",
    "# row, col = 4, 4\n",
    "# r_row, r_col, direct = 1, 1, 0\n",
    "# matrix = [[1, 1, 1, 1], [1, 0, 0, 1], [1, 0, 0, 1], [1, 1, 1, 1]]\n",
    "\n",
    "row, col = 11, 10\n",
    "r_row, r_col, direct = 7, 4, 0\n",
    "matrix = [[1, 1, 1, 1, 1, 1, 1, 1, 1, 1],\n",
    " [1, 0, 0, 0, 0, 0, 0, 0, 0, 1],\n",
    " [1, 0, 0, 0, 1, 1, 1, 1, 0, 1],\n",
    " [1, 0, 0, 1, 1, 0, 0, 0, 0, 1],\n",
    " [1, 0, 1, 1, 0, 0, 0, 0, 0, 1],\n",
    " [1, 0, 0, 0, 0, 0, 0, 0, 0, 1],\n",
    " [1, 0, 0, 0, 0, 0, 0, 1, 0, 1],\n",
    " [1, 0, 0, 0, 0, 0, 1, 1, 0, 1],\n",
    " [1, 0, 0, 0, 0, 0, 1, 1, 0, 1],\n",
    " [1, 0, 0, 0, 0, 0, 0, 0, 0, 1],\n",
    " [1, 1, 1, 1, 1, 1, 1, 1, 1, 1]]\n",
    "\n",
    "while True:\n",
    "    matrix, direct, r_row, r_col, answer = move(matrix, row, col, r_row, r_col, direct, di, dn, answer)\n",
    "    if direct == 5:\n",
    "        break\n",
    "print(answer)"
   ]
  },
  {
   "cell_type": "code",
   "execution_count": null,
   "metadata": {},
   "outputs": [],
   "source": [
    "# 3 3\n",
    "# 1 1 0\n",
    "# 1 1 1\n",
    "# 1 0 1\n",
    "# 1 1 1\n",
    "## 1\n",
    "\n",
    "# 11 10\n",
    "# 7 4 0\n",
    "# 1 1 1 1 1 1 1 1 1 1\n",
    "# 1 0 0 0 0 0 0 0 0 1\n",
    "# 1 0 0 0 1 1 1 1 0 1\n",
    "# 1 0 0 1 1 0 0 0 0 1\n",
    "# 1 0 1 1 0 0 0 0 0 1\n",
    "# 1 0 0 0 0 0 0 0 0 1\n",
    "# 1 0 0 0 0 0 0 1 0 1\n",
    "# 1 0 0 0 0 0 1 1 0 1\n",
    "# 1 0 0 0 0 0 1 1 0 1\n",
    "# 1 0 0 0 0 0 0 0 0 1\n",
    "# 1 1 1 1 1 1 1 1 1 1\n",
    "## 57"
   ]
  }
 ],
 "metadata": {
  "kernelspec": {
   "display_name": "Python 3",
   "language": "python",
   "name": "python3"
  },
  "language_info": {
   "codemirror_mode": {
    "name": "ipython",
    "version": 3
   },
   "file_extension": ".py",
   "mimetype": "text/x-python",
   "name": "python",
   "nbconvert_exporter": "python",
   "pygments_lexer": "ipython3",
   "version": "3.8.1"
  }
 },
 "nbformat": 4,
 "nbformat_minor": 4
}
