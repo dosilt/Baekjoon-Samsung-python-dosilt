{
 "cells": [
  {
   "cell_type": "code",
   "execution_count": 15,
   "metadata": {},
   "outputs": [
    {
     "name": "stdout",
     "output_type": "stream",
     "text": [
      "[((0, 1), (4, 4)), ((0, 1), (4, 0)), ((0, 1), (3, 0)), ((0, 1), (4, 1)), ((4, 4), (4, 0)), ((4, 4), (3, 0)), ((4, 4), (4, 1)), ((4, 0), (3, 0)), ((4, 0), (4, 1)), ((3, 0), (4, 1))]\n",
      "10\n"
     ]
    }
   ],
   "source": [
    "# N, company = list(map(int, input().split(' ')))\n",
    "# matrix = [0 for _ in range(N)]\n",
    "# for i in range(N):\n",
    "#     matrix[i] = list(map(int, input().split(' ')))\n",
    "    \n",
    "N, company = 5, 3\n",
    "matrix = [[0, 0, 1, 0, 0],\n",
    "         [0, 0, 2, 0, 1],\n",
    "         [0, 1, 2, 0, 0],\n",
    "         [0, 0, 1, 0, 0],\n",
    "         [0, 0, 0, 0, 2]]\n",
    "\n",
    "N, company = 5, 2\n",
    "matrix = [[0, 2, 0, 1, 0],\n",
    "         [1, 0, 1, 0, 0],\n",
    "         [0, 0, 0, 0, 0],\n",
    "         [2, 0, 0, 1, 1],\n",
    "         [2, 2, 0, 1, 2]]\n",
    "\n",
    "from itertools import combinations\n",
    "\n",
    "shop = set()\n",
    "home = set()\n",
    "\n",
    "for i in range(N):\n",
    "    for j in range(N):\n",
    "        if matrix[i][j] == 1:\n",
    "            home.add((i, j))\n",
    "        elif matrix[i][j] == 2:\n",
    "            shop.add((i, j))\n",
    "answer = []\n",
    "shop_remain = list(combinations(shop, company))\n",
    "print(shop_remain)\n",
    "for home_row, home_col in home:\n",
    "    temp = []\n",
    "    for shops in shop_remain:\n",
    "        for shop_row, shop_col in shops:\n",
    "            temp.append(abs(shop_row-home_row) + abs(shop_col-home_col))\n",
    "    answer.append(min(temp))\n",
    "print(sum(answer))"
   ]
  },
  {
   "cell_type": "code",
   "execution_count": 1,
   "metadata": {},
   "outputs": [],
   "source": [
    "# 5 3\n",
    "# 0 0 1 0 0\n",
    "# 0 0 2 0 1\n",
    "# 0 1 2 0 0\n",
    "# 0 0 1 0 0\n",
    "# 0 0 0 0 2\n",
    "## 5\n",
    "\n",
    "# 5 2\n",
    "# 0 2 0 1 0\n",
    "# 1 0 1 0 0\n",
    "# 0 0 0 0 0\n",
    "# 2 0 0 1 1\n",
    "# 2 2 0 1 2\n",
    "## 10\n",
    "\n",
    "# 5 1\n",
    "# 1 2 0 0 0\n",
    "# 1 2 0 0 0\n",
    "# 1 2 0 0 0\n",
    "# 1 2 0 0 0\n",
    "# 1 2 0 0 0\n",
    "## 11"
   ]
  },
  {
   "cell_type": "code",
   "execution_count": null,
   "metadata": {},
   "outputs": [],
   "source": []
  }
 ],
 "metadata": {
  "kernelspec": {
   "display_name": "Python 3",
   "language": "python",
   "name": "python3"
  },
  "language_info": {
   "codemirror_mode": {
    "name": "ipython",
    "version": 3
   },
   "file_extension": ".py",
   "mimetype": "text/x-python",
   "name": "python",
   "nbconvert_exporter": "python",
   "pygments_lexer": "ipython3",
   "version": "3.8.1"
  }
 },
 "nbformat": 4,
 "nbformat_minor": 4
}
