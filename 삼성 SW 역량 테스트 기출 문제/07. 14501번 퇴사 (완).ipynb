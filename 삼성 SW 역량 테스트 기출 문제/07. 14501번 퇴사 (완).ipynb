{
 "cells": [
  {
   "cell_type": "markdown",
   "metadata": {},
   "source": [
    "# https://www.acmicpc.net/problem/14501"
   ]
  },
  {
   "cell_type": "code",
   "execution_count": 13,
   "metadata": {},
   "outputs": [
    {
     "name": "stdout",
     "output_type": "stream",
     "text": [
      "101\n"
     ]
    }
   ],
   "source": [
    "# days = int(input().strip())\n",
    "# works = [0 for _ in range(days)]\n",
    "# for i in range(days):\n",
    "#     works[i] = tuple(map(int, input().strip().split(' ')))\n",
    "\n",
    "days = 7\n",
    "works = [(3, 10), (5, 20), (1, 10), (1, 20), (2, 15), (4, 40), (2, 200)]\n",
    "\n",
    "# days = 10\n",
    "# works = [(1, 1), (1, 2), (1, 3), (1, 4), (1, 5), (1, 6), (1, 7), (1, 8), (1, 9), (1, 10)]\n",
    "\n",
    "# days = 10\n",
    "# works = [(5, 10), (5, 9), (5, 8), (5, 7), (5, 6), (5, 10), (5, 9), (5, 8), (5, 7), (5, 6)]\n",
    "\n",
    "# days = 10\n",
    "# works = [(5, 50), (4, 40), (3, 30), (2, 20), (1, 10), (1, 10), (2, 20), (3, 30), (4, 40), (5, 50)]\n",
    "\n",
    "# days = 4\n",
    "# works = [(1, 1), (3, 1), (1, 1), (1, 1)]\n",
    "\n",
    "# days = 5\n",
    "# works = [(4, 10), (2, 9), (2, 3), (2, 2), (3, 100)]\n",
    "\n",
    "days = 2\n",
    "works = [(1, 1), (1, 100)]\n",
    "\n",
    "dp = [0 for _ in range(days+1)]\n",
    "answer = 0\n",
    "\n",
    "for i in range(1, len(works)+1):\n",
    "    times, pay = works[i-1]\n",
    "    \n",
    "    if i+times-1 < len(works)+1:\n",
    "        dp[i+times-1] = max(dp[i+times-1], dp[i-1]+pay)\n",
    "        answer = max(answer, dp[i+times-1])\n",
    "    if dp[i] < dp[i-1]:\n",
    "        dp[i] = dp[i-1]\n",
    "print(answer)"
   ]
  },
  {
   "cell_type": "markdown",
   "metadata": {},
   "source": [
    "# 해설\n",
    "dp 문제이다.\n",
    "\n",
    "보통의 dp 문제들은 좌우 한칸씩의 데이터에 영향을 미치지만 여기의 문제 같은 경우는\n",
    "\n",
    "걸리는 시간 즉 days가 작업마다 다르기 때문에 각각의 작업마다\n",
    "\n",
    "좌우에 데이터들에 대해 미치는 영향이 다르다."
   ]
  },
  {
   "cell_type": "code",
   "execution_count": null,
   "metadata": {},
   "outputs": [],
   "source": []
  }
 ],
 "metadata": {
  "kernelspec": {
   "display_name": "Python 3",
   "language": "python",
   "name": "python3"
  },
  "language_info": {
   "codemirror_mode": {
    "name": "ipython",
    "version": 3
   },
   "file_extension": ".py",
   "mimetype": "text/x-python",
   "name": "python",
   "nbconvert_exporter": "python",
   "pygments_lexer": "ipython3",
   "version": "3.8.1"
  }
 },
 "nbformat": 4,
 "nbformat_minor": 4
}
