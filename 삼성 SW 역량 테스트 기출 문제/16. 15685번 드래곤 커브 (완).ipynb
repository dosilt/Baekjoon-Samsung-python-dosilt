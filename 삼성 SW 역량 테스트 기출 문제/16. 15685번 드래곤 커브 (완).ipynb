{
 "cells": [
  {
   "cell_type": "markdown",
   "metadata": {},
   "source": [
    "# https://www.acmicpc.net/problem/15685"
   ]
  },
  {
   "cell_type": "code",
   "execution_count": 32,
   "metadata": {},
   "outputs": [
    {
     "name": "stdout",
     "output_type": "stream",
     "text": [
      "4\n"
     ]
    }
   ],
   "source": [
    "# 0: x좌표가 증가하는 방향 (→)\n",
    "# 1: y좌표가 감소하는 방향 (↑)\n",
    "# 2: x좌표가 감소하는 방향 (←)\n",
    "# 3: y좌표가 증가하는 방향 (↓)\n",
    "# x와 y는 드래곤 커브의 시작 점, d는 시작 방향, g는 세대이다.\n",
    "\n",
    "# N = int(input())\n",
    "# command = [list(map(int, input().split(' '))) for _ in range(N)]\n",
    "\n",
    "N = 3\n",
    "command = [[3, 3, 0, 1], [4, 2, 1, 3], [4, 2, 2, 1]]\n",
    "\n",
    "from collections import deque\n",
    "\n",
    "def rotate(c_row, c_col, p_row, p_col):\n",
    "    t_row = p_row - c_row\n",
    "    t_col = p_col - c_col\n",
    "    \n",
    "    # [[0, 1], [-1, 0]]\n",
    "    \n",
    "    new_row = t_col + c_row\n",
    "    new_col = -t_row + c_col\n",
    "    return new_row, new_col\n",
    "\n",
    "matrix = [[0 for _ in range(101)] for _ in range(101)]\n",
    "\n",
    "dn = {0:(0, 1), 1:(-1, 0), 2:(0, -1), 3:(1, 0)}\n",
    "\n",
    "for num, data in enumerate(command):\n",
    "    col, row, direct, generation = data\n",
    "    num += 1\n",
    "    \n",
    "    point = deque([[row, col]])\n",
    "    point.append([row+dn[direct][0], col+dn[direct][1]])\n",
    "    \n",
    "    for x, y in point:\n",
    "        matrix[x][y] = 1\n",
    "        \n",
    "    for i in range(generation):\n",
    "        c_row, c_col = point[-1]\n",
    "        \n",
    "        for new in range(len(point)-2, -1, -1):\n",
    "            p_row, p_col = point[new]\n",
    "            r_row, r_col = rotate(c_row, c_col, p_row, p_col)\n",
    "            matrix[r_row][r_col] = 1\n",
    "            point.append([r_row, r_col])\n",
    "answer = 0\n",
    "for i in range(101-1):\n",
    "    for j in range(101-1):\n",
    "        if matrix[i][j] == 0:\n",
    "            continue\n",
    "        \n",
    "        if matrix[i][j] == 1 and matrix[i][j+1] == 1 and matrix[i+1][j] == 1 and matrix[i+1][j+1] == 1:\n",
    "            answer += 1\n",
    "print(answer)"
   ]
  },
  {
   "cell_type": "markdown",
   "metadata": {},
   "source": [
    "# 해설\n",
    "위 문제를 풀기 위해서 가장 중요한 것은 회전 행렬을 아는 것이다. 회전 행렬은\n",
    "\n",
    "[[cos(theta), -sin(theta)], [sin(theta), cos(theta)]] 이며 theta의 방향은 반시계이다.\n",
    "\n",
    "따라서 -90을 넣었을 경우가 우리가 원하는 시계방향으로 회전 시키는 것이다.\n",
    "\n",
    "이후에 회전에 있어서 point라는 배열 변수를 이용했는데\n",
    "\n",
    "회전을 할 때 마지막에 찍힌 점이 중심점이 되고 나머지는 그 중심점을 중간으로 회전한다.\n",
    "\n",
    "간단하게 말하면\n",
    "\n",
    "[1, 2, 3] 이라는 배열이 있으면 3이 중심이 되어 회전을 하고 \n",
    "\n",
    "[1, 2, 3, 3-2, 3-1] 이런식으로 새로운 점들이 발생하는데 점 생성 순서를 배열의 뒤쪽부터\n",
    "\n",
    "reverse 형식으로 한다면 또다시 회전을 한다고해도 중심점은 마지막 포인트가 된다.\n",
    "\n",
    "즉 [1, 2, 3, 3-2, 3-1] 의 회전 중심점은 3-1이 된다."
   ]
  },
  {
   "cell_type": "code",
   "execution_count": null,
   "metadata": {},
   "outputs": [],
   "source": []
  }
 ],
 "metadata": {
  "kernelspec": {
   "display_name": "Python 3",
   "language": "python",
   "name": "python3"
  },
  "language_info": {
   "codemirror_mode": {
    "name": "ipython",
    "version": 3
   },
   "file_extension": ".py",
   "mimetype": "text/x-python",
   "name": "python",
   "nbconvert_exporter": "python",
   "pygments_lexer": "ipython3",
   "version": "3.8.1"
  }
 },
 "nbformat": 4,
 "nbformat_minor": 4
}
