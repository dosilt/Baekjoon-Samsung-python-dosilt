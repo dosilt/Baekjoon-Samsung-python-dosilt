{
 "cells": [
  {
   "cell_type": "markdown",
   "metadata": {},
   "source": [
    "# https://www.acmicpc.net/problem/14888"
   ]
  },
  {
   "cell_type": "code",
   "execution_count": 1,
   "metadata": {
    "scrolled": false
   },
   "outputs": [
    {
     "name": "stdout",
     "output_type": "stream",
     "text": [
      "54 -24\n"
     ]
    }
   ],
   "source": [
    "def cal(ans, count, num, action):\n",
    "    global answer\n",
    "    d = {0:'+', 1:'-', 2:'*', 3:'/'}\n",
    "    if count == len(num):\n",
    "        answer.append(ans)\n",
    "        return\n",
    "    \n",
    "    for i in range(4):\n",
    "        if action[i] > 0:\n",
    "            if i == 0:\n",
    "                temp = ans + num[count]\n",
    "            elif i == 1:\n",
    "                temp = ans - num[count]\n",
    "            elif i == 2:\n",
    "                temp = ans * num[count]\n",
    "            elif i == 3:\n",
    "                if ans < 0:\n",
    "                    ans *= -1\n",
    "                    temp = ans // num[count]\n",
    "                    temp *= -1\n",
    "                else:\n",
    "                    temp = ans // num[count]\n",
    "            action[i] -= 1\n",
    "            cal(temp, count+1, num, action)\n",
    "            action[i] += 1\n",
    "        \n",
    "# N = int(input().strip())\n",
    "# num = list(map(int, input().strip().split(' ')))\n",
    "# action = list(map(int, input().strip().split(' ')))\n",
    "\n",
    "# N = 2\n",
    "# num = [5, 6]\n",
    "# action = [0, 0, 1, 0]\n",
    "\n",
    "# N = 3\n",
    "# num = [3, 4, 5]\n",
    "# action = [1, 0, 1, 0]\n",
    "\n",
    "N = 6\n",
    "num = [1, 2, 3, 4, 5, 6]\n",
    "action = [2, 1, 1, 1]\n",
    "\n",
    "answer = []\n",
    "\n",
    "cal(num[0], 1, num, action)\n",
    "print(max(answer), min(answer))"
   ]
  },
  {
   "cell_type": "markdown",
   "metadata": {},
   "source": [
    "# 해설\n",
    "처음에 input으로 숫자의 개수와 숫자와 연산자의 개수가 들어온다.\n",
    "\n",
    "이 문제에 대해선 bfs 를 이용했으며\n",
    "\n",
    "위 코드를 간단하게 해석하자면\n",
    "\n",
    "연산자의 수는 action이라는 list에 [2, 1, 1, 1] 이 들어와있다.\n",
    "\n",
    "따라서 '+' 가 2개 '-'가 1개 '*' 가 1개 '/' 가 1개가 있다.\n",
    "\n",
    "action[i] 가 0보다 크다면 사용할 연산자가 존재한다는 것이고, 이에 따라\n",
    "\n",
    "for문을 돌면서 처음에는 + + - * / 순서대로 연산을 진행하고\n",
    "\n",
    "bfs이기 때문에 * / 를 되돌리고 / * 순으로 연산하고 이런식으로 지속적으로 연산하여\n",
    "\n",
    "최대값과 최소값을 연산해 낸다."
   ]
  },
  {
   "cell_type": "code",
   "execution_count": null,
   "metadata": {},
   "outputs": [],
   "source": []
  }
 ],
 "metadata": {
  "kernelspec": {
   "display_name": "Python 3",
   "language": "python",
   "name": "python3"
  },
  "language_info": {
   "codemirror_mode": {
    "name": "ipython",
    "version": 3
   },
   "file_extension": ".py",
   "mimetype": "text/x-python",
   "name": "python",
   "nbconvert_exporter": "python",
   "pygments_lexer": "ipython3",
   "version": "3.8.1"
  }
 },
 "nbformat": 4,
 "nbformat_minor": 4
}
