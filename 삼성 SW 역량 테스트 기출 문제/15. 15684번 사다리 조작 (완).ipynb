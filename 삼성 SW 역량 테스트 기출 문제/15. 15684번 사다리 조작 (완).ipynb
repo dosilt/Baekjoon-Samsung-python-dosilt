{
 "cells": [
  {
   "cell_type": "markdown",
   "metadata": {},
   "source": [
    "# https://www.acmicpc.net/problem/15684"
   ]
  },
  {
   "cell_type": "code",
   "execution_count": 44,
   "metadata": {
    "scrolled": true
   },
   "outputs": [
    {
     "name": "stdout",
     "output_type": "stream",
     "text": [
      "3\n"
     ]
    }
   ],
   "source": [
    "# col, count, row = list(map(int, input().split(' ')))\n",
    "# matrix = [[0 for _ in range(col)] for _ in range(row)]\n",
    "# command = [list(map(int, input().split(' '))) for i in range(count)]\n",
    "\n",
    "col, count, row = 5, 5, 6\n",
    "matrix = [[0 for _ in range(col)] for _ in range(row)]\n",
    "command = [[1, 1], [3, 2], [2, 3], [5, 1], [5, 4]]\n",
    "\n",
    "# col, count, row = 2, 0, 3\n",
    "# matrix = [[0 for _ in range(col)] for _ in range(row)]\n",
    "# command = []\n",
    "\n",
    "# col, count, row = 2, 1, 3\n",
    "# matrix = [[0 for _ in range(col)] for _ in range(row)]\n",
    "# command = [[1, 1]]\n",
    "\n",
    "# col, count, row = 6, 5, 6\n",
    "# matrix = [[0 for _ in range(col)] for _ in range(row)]\n",
    "# command = [[1, 1], [3, 2], [1, 3], [2, 5], [5, 5]]\n",
    "\n",
    "answer = float('inf')\n",
    "\n",
    "for x, y in command:\n",
    "    matrix[x-1][y-1] = 1\n",
    "    \n",
    "def check(row, col, matrix):\n",
    "    for j in range(col-1):\n",
    "        loc = j\n",
    "        for i in range(row):\n",
    "            if matrix[i][loc-1] == 1 and 0 <= loc-1:\n",
    "                loc -= 1\n",
    "            elif matrix[i][loc] == 1:\n",
    "                loc += 1\n",
    "        if j != loc:\n",
    "            return False\n",
    "    return True\n",
    "\n",
    "def make_ladder(row, col, matrix, add, s_row):\n",
    "    global answer\n",
    "    \n",
    "    if check(row, col, matrix):\n",
    "        answer = min(answer, add)\n",
    "        return\n",
    "    \n",
    "    if add == 3 or answer <= add:\n",
    "        return\n",
    "    \n",
    "    for i in range(s_row, row):\n",
    "        for j in range(col-1):\n",
    "            if matrix[i][j-1] == 0 and matrix[i][j] == 0 and matrix[i][j+1] == 0:\n",
    "                matrix[i][j] = 1\n",
    "                make_ladder(row, col, matrix, add+1, i)\n",
    "                matrix[i][j] = 0\n",
    "                \n",
    "if check(row, col, matrix):\n",
    "    print('0')\n",
    "else:\n",
    "    make_ladder(row, col, matrix, 0, 0)\n",
    "    if answer == float('inf'):\n",
    "        print(-1)\n",
    "    else:\n",
    "        print(answer)"
   ]
  },
  {
   "cell_type": "markdown",
   "metadata": {},
   "source": [
    "# 해설\n",
    "우선 데이터를 받는데 순서는 col, 사다리개수, row 의 순서대로 input이 들어온다\n",
    "\n",
    "이후엔 사다리의 위치가 들어오는데 만약 1 1 이 들어왔다면 (1, 1) 와 (1, 2) 가 연결되어 있다고 생각하면 된다.\n",
    "\n",
    "위에선 저런 사다리 위치 데이터를 (x-1, y-1) 을 하여 matrix에 저장하였고 (matrix index number 가 0부터 시작하니깐)\n",
    "\n",
    "check 함수를 이용하여 \n",
    "\n",
    "for j in range(col-1) 을 이용하여 0번째 줄부터 하나씩 내려가면서\n",
    "\n",
    "사다리가 loc-1 에 존재하면 왼쪽으로 이동하고 loc 에 존재하면 오른쪽으로 이동하는 식으로\n",
    "\n",
    "내려간다. col-1 를 한 이유는 나머지가 다 i = loc 이라면 마지막 1개 남은 것도 당연히 같은 것이기 때문이다.\n",
    "\n",
    "이제 사다리를 최대 3개까지 그리는 부분이다\n",
    "\n",
    "make_ladder 함수를 이용하여\n",
    "\n",
    "add 는 그린 사다리의 개수이다.\n",
    "\n",
    "위 코드는 bfs를 이용해서 전체적으로 탐색을 하는데 사다리 2개만 그려서 위 조건을 만족 시킬수 있다면\n",
    "\n",
    "그 이후부터는 3개까지 그릴 필요가 없다. 따라서 answer <= add 이 구문은 중요하다고 볼 수 있다.\n",
    "\n",
    "나머지 부분은 기본적인 bfs랑 같으니 생략하겠다."
   ]
  },
  {
   "cell_type": "code",
   "execution_count": null,
   "metadata": {},
   "outputs": [],
   "source": []
  }
 ],
 "metadata": {
  "kernelspec": {
   "display_name": "Python 3",
   "language": "python",
   "name": "python3"
  },
  "language_info": {
   "codemirror_mode": {
    "name": "ipython",
    "version": 3
   },
   "file_extension": ".py",
   "mimetype": "text/x-python",
   "name": "python",
   "nbconvert_exporter": "python",
   "pygments_lexer": "ipython3",
   "version": "3.8.1"
  }
 },
 "nbformat": 4,
 "nbformat_minor": 4
}
