{
 "cells": [
  {
   "cell_type": "code",
   "execution_count": 40,
   "metadata": {
    "scrolled": false
   },
   "outputs": [
    {
     "name": "stdout",
     "output_type": "stream",
     "text": [
      "54 -24\n"
     ]
    }
   ],
   "source": [
    "def cal(ans, count, num, action):\n",
    "    global answer\n",
    "    d = {0:'+', 1:'-', 2:'*', 3:'/'}\n",
    "    if count == len(num):\n",
    "        answer.append(ans)\n",
    "        return\n",
    "    \n",
    "    for i in range(4):\n",
    "        if action[i] > 0:\n",
    "            if i == 0:\n",
    "                temp = ans + num[count]\n",
    "            elif i == 1:\n",
    "                temp = ans - num[count]\n",
    "            elif i == 2:\n",
    "                temp = ans * num[count]\n",
    "            elif i == 3:\n",
    "                if ans < 0:\n",
    "                    ans *= -1\n",
    "                    temp = ans // num[count]\n",
    "                    temp *= -1\n",
    "                else:\n",
    "                    temp = ans // num[count]\n",
    "            action[i] -= 1\n",
    "            cal(temp, count+1, num, action)\n",
    "            action[i] += 1\n",
    "        \n",
    "# N = int(input().strip())\n",
    "# num = list(map(int, input().strip().split(' ')))\n",
    "# action = list(map(int, input().strip().split(' ')))\n",
    "\n",
    "# N = 2\n",
    "# num = [5, 6]\n",
    "# action = [0, 0, 1, 0]\n",
    "\n",
    "# N = 3\n",
    "# num = [3, 4, 5]\n",
    "# action = [1, 0, 1, 0]\n",
    "\n",
    "# N = 6\n",
    "# num = [1, 2, 3, 4, 5, 6]\n",
    "# action = [2, 1, 1, 1]\n",
    "\n",
    "answer = []\n",
    "\n",
    "cal(num[0], 1, num, action)\n",
    "print(max(answer), min(answer))"
   ]
  },
  {
   "cell_type": "code",
   "execution_count": 36,
   "metadata": {},
   "outputs": [],
   "source": [
    "# 2\n",
    "# 5 6\n",
    "# 0 0 1 0\n",
    "## 30 30\n",
    "\n",
    "# 3\n",
    "# 3 4 5\n",
    "# 1 0 1 0\n",
    "## 35 17\n",
    "\n",
    "# 6\n",
    "# 1 2 3 4 5 6\n",
    "# 2 1 1 1\n",
    "## 54 -24"
   ]
  },
  {
   "cell_type": "code",
   "execution_count": null,
   "metadata": {},
   "outputs": [],
   "source": []
  }
 ],
 "metadata": {
  "kernelspec": {
   "display_name": "Python 3",
   "language": "python",
   "name": "python3"
  },
  "language_info": {
   "codemirror_mode": {
    "name": "ipython",
    "version": 3
   },
   "file_extension": ".py",
   "mimetype": "text/x-python",
   "name": "python",
   "nbconvert_exporter": "python",
   "pygments_lexer": "ipython3",
   "version": "3.8.1"
  }
 },
 "nbformat": 4,
 "nbformat_minor": 4
}
