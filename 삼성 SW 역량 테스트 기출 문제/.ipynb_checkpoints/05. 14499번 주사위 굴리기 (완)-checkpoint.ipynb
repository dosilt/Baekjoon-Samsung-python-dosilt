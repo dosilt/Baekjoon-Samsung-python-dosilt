{
 "cells": [
  {
   "cell_type": "markdown",
   "metadata": {},
   "source": [
    "# https://www.acmicpc.net/problem/14499"
   ]
  },
  {
   "cell_type": "code",
   "execution_count": 31,
   "metadata": {},
   "outputs": [
    {
     "name": "stdout",
     "output_type": "stream",
     "text": [
      "0\n",
      "0\n",
      "0\n",
      "6\n",
      "0\n",
      "8\n",
      "0\n",
      "2\n",
      "0\n",
      "8\n",
      "0\n",
      "2\n",
      "0\n",
      "8\n",
      "0\n",
      "2\n"
     ]
    }
   ],
   "source": [
    "import copy\n",
    "\n",
    "def move(command, move_command, row_dice, col_dice, row, col, matrix):\n",
    "    dn = {1:(0, 1), 2:(0, -1), 3:(-1, 0), 4:(1, 0)} # 명령에 따른 구르기 방향\n",
    "    \n",
    "    for c in command: # 명령어를 순서대로 불러옴\n",
    "        temp = move_command[c] # 명령어에 따른 list index 를 불러옴\n",
    "        dice_t = copy.deepcopy(dice) # 굴러갈때 list의 index를 바꿔야 하기 때문에 미리 저장을 해두었다.\n",
    "    \n",
    "        \n",
    "        row_dice += dn[c][0]\n",
    "        col_dice += dn[c][1] # 주사위의 다음 위치를 조정\n",
    "        \n",
    "        if row_dice >= row or col_dice >= col or row_dice < 0 or col_dice < 0: # 만약 다음 위치가 map 밖이면 for문 처음으로 돌아감\n",
    "            row_dice -= dn[c][0]\n",
    "            col_dice -= dn[c][1]\n",
    "            continue\n",
    "        \n",
    "        for t in range(len(temp)):\n",
    "            dice[t] = dice_t[temp[t]-1] # 주사위 suffle\n",
    "            \n",
    "        print(dice[0])\n",
    "        if matrix[row_dice][col_dice] == 0: # 주사위 아래에 있는 map이 0이면 \n",
    "             matrix[row_dice][col_dice] = dice[5] # 주사위 바닥면에 있는 숫자를 map 에 저장해 준다.\n",
    "            \n",
    "        else: # 주사위 아래이 있는 map이 0이 아니라면\n",
    "            dice[5] = matrix[row_dice][col_dice] # 주사위 바닥면을 map에 있는 숫자로 바꾸고\n",
    "            matrix[row_dice][col_dice] = 0 # map의 값을 0으로 변경한다.\n",
    "            \n",
    "            \n",
    "\n",
    "# row, col, row_dice, col_dice, command_length = list(map(int, input().strip().split(' ')))\n",
    "# matrix = [0 for _ in range(row)]\n",
    "# for i in range(row):\n",
    "#     matrix[i] = list(map(int, input().strip().split(' ')))\n",
    "# command = list(map(int, input().strip().split(' ')))\n",
    "\n",
    "# row, col, row_dice, col_dice, command_length = 4, 2, 0, 0, 8\n",
    "# matrix = [[0, 2], [3, 4], [5, 6], [7, 8]]\n",
    "# command = [4, 4, 4, 1, 3, 3, 3, 2]\n",
    "\n",
    "# row, col, row_dice, col_dice, command_length = 3, 3, 1, 1, 9\n",
    "# matrix = [[1, 2, 3], [4, 0, 5], [6, 7, 8]]\n",
    "# command = [1, 3, 2, 2, 4, 4, 1, 1, 3]\n",
    "\n",
    "# row, col, row_dice, col_dice, command_length = 2, 2, 0, 0, 16\n",
    "# matrix = [[0, 2], [3, 4]]\n",
    "# command = [4, 4, 4, 4, 1, 1, 1, 1, 3, 3, 3, 3, 2, 2, 2, 2]\n",
    "\n",
    "row, col, row_dice, col_dice, command_length = 3, 3, 0, 0, 16\n",
    "matrix = [[0, 1, 2], [3, 4, 5], [6, 7, 8]]\n",
    "command = [4, 4, 1, 1, 3, 3, 2, 2, 4, 4, 1, 1, 3, 3, 2, 2]\n",
    "\n",
    "\n",
    "dice = [0, 0, 0, 0, 0, 0]\n",
    "\n",
    "move_command = {1:(4, 2, 1, 6, 5, 3), 2:(3, 2, 6, 1, 5, 4), 3:(5, 1, 3, 4, 6, 2), 4:(2, 6, 3, 4, 1, 5)} # 구를 때 바뀌는 list의 index들\n",
    "\n",
    "move(command, move_command, row_dice, col_dice, row, col, matrix)"
   ]
  },
  {
   "cell_type": "markdown",
   "metadata": {},
   "source": [
    "# 해설\n",
    "문제를 이해하는데 좀 어려움을 겪었던 문제 중에 하나이다.\n",
    "\n",
    "초기 주사위는 모든 면이 0으로 설정이 되어 있으며\n",
    "\n",
    "map이 주어지고 그 map위로 주사위가 명령에 맞게 굴러다니며 \n",
    "\n",
    "주사위에 숫자가 생기거나 사라지거나\n",
    "\n",
    "바닥에 숫자가 생기거나 사라진다.\n",
    "\n",
    "구를 수 없는 방향의 명령은 무시한다.\n",
    "\n",
    "이렇게 이해하면 된다."
   ]
  },
  {
   "cell_type": "code",
   "execution_count": null,
   "metadata": {},
   "outputs": [],
   "source": []
  }
 ],
 "metadata": {
  "kernelspec": {
   "display_name": "Python 3",
   "language": "python",
   "name": "python3"
  },
  "language_info": {
   "codemirror_mode": {
    "name": "ipython",
    "version": 3
   },
   "file_extension": ".py",
   "mimetype": "text/x-python",
   "name": "python",
   "nbconvert_exporter": "python",
   "pygments_lexer": "ipython3",
   "version": "3.8.1"
  }
 },
 "nbformat": 4,
 "nbformat_minor": 4
}
