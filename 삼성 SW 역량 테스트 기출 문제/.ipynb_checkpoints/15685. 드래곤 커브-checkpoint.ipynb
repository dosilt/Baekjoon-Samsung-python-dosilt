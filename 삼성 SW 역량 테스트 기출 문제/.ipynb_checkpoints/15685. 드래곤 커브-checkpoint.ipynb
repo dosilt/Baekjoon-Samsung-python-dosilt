{
 "cells": [
  {
   "cell_type": "code",
   "execution_count": null,
   "metadata": {},
   "outputs": [],
   "source": [
    "# 0: x좌표가 증가하는 방향 (→)\n",
    "# 1: y좌표가 감소하는 방향 (↑)\n",
    "# 2: x좌표가 감소하는 방향 (←)\n",
    "# 3: y좌표가 증가하는 방향 (↓)\n",
    "# x와 y는 드래곤 커브의 시작 점, d는 시작 방향, g는 세대이다"
   ]
  },
  {
   "cell_type": "code",
   "execution_count": 1,
   "metadata": {},
   "outputs": [],
   "source": [
    "# 3\n",
    "# 3 3 0 1\n",
    "# 4 2 1 3\n",
    "# 4 2 2 1\n",
    "## 4\n",
    "\n",
    "# 4\n",
    "# 3 3 0 1\n",
    "# 4 2 1 3\n",
    "# 4 2 2 1\n",
    "# 2 7 3 4\n",
    "## 11\n",
    "\n",
    "# 10\n",
    "# 5 5 0 0\n",
    "# 5 6 0 0\n",
    "# 5 7 0 0\n",
    "# 5 8 0 0\n",
    "# 5 9 0 0\n",
    "# 6 5 0 0\n",
    "# 6 6 0 0\n",
    "# 6 7 0 0\n",
    "# 6 8 0 0\n",
    "# 6 9 0 0\n",
    "## 8"
   ]
  },
  {
   "cell_type": "code",
   "execution_count": null,
   "metadata": {},
   "outputs": [],
   "source": []
  }
 ],
 "metadata": {
  "kernelspec": {
   "display_name": "Python 3",
   "language": "python",
   "name": "python3"
  },
  "language_info": {
   "codemirror_mode": {
    "name": "ipython",
    "version": 3
   },
   "file_extension": ".py",
   "mimetype": "text/x-python",
   "name": "python",
   "nbconvert_exporter": "python",
   "pygments_lexer": "ipython3",
   "version": "3.8.1"
  }
 },
 "nbformat": 4,
 "nbformat_minor": 4
}
