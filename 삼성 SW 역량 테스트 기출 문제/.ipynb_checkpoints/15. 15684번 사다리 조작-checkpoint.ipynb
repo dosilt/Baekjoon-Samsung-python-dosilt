{
 "cells": [
  {
   "cell_type": "code",
   "execution_count": 35,
   "metadata": {
    "scrolled": false
   },
   "outputs": [
    {
     "name": "stdout",
     "output_type": "stream",
     "text": [
      "[1, 1]\n",
      "[2, 2]\n",
      "[0, 0]\n",
      "\n",
      "[1, 1]\n",
      "[0, 0]\n",
      "[2, 2]\n",
      "\n",
      "1\n"
     ]
    }
   ],
   "source": [
    "# col, count, row = list(map(int, input().split(' ')))\n",
    "# matrix = [[0 for _ in range(col)] for _ in range(row)]\n",
    "# command = [list(map(int, input().split(' '))) for i in range(count)]\n",
    "\n",
    "# col, count, row = 5, 5, 6\n",
    "# matrix = [[0 for _ in range(col)] for _ in range(row)]\n",
    "# command = [[1, 1], [3, 2], [2, 3], [5, 1], [5, 4]]\n",
    "\n",
    "col, count, row = 2, 0, 3\n",
    "matrix = [[0 for _ in range(col)] for _ in range(row)]\n",
    "command = []\n",
    "\n",
    "col, count, row = 2, 1, 3\n",
    "matrix = [[0 for _ in range(col)] for _ in range(row)]\n",
    "command = [[1, 1]]\n",
    "\n",
    "answer = float('inf')\n",
    "ladder = 1\n",
    "\n",
    "for x, y in command:\n",
    "    x -= 1\n",
    "    y -= 1\n",
    "    matrix[x][y] = ladder\n",
    "    matrix[x][y+1] = ladder\n",
    "    ladder += 1\n",
    "\n",
    "def check(row, col, matrix):\n",
    "    for j in range(col):\n",
    "        loc = j\n",
    "        for i in range(row):\n",
    "            if matrix[i][loc] != 0:\n",
    "                if loc+1 < col and matrix[i][loc+1] == matrix[i][loc]:\n",
    "                    loc += 1\n",
    "                    continue\n",
    "                if 0<=loc-1 and matrix[i][loc-1] == matrix[i][loc]:\n",
    "                    loc -= 1\n",
    "        if j != loc:\n",
    "            return False\n",
    "    for aa in matrix:\n",
    "        print(aa)\n",
    "    print()\n",
    "    return True\n",
    "        \n",
    "def make_ladder(row, col, matrix, ladder, add, s_row):\n",
    "    global answer\n",
    "    if add == 3:\n",
    "        return\n",
    "    \n",
    "    for i in range(s_row, row):\n",
    "        for j in range(col-1):\n",
    "            if matrix[i][j] == 0 and matrix[i][j+1] == 0:\n",
    "                matrix[i][j] = ladder\n",
    "                matrix[i][j+1] = ladder\n",
    "                ladder += 1\n",
    "                if check(row, col, matrix):\n",
    "                    answer = min(answer, add+1)\n",
    "                make_ladder(row, col, matrix, ladder, add+1, i)\n",
    "                matrix[i][j] = 0\n",
    "                matrix[i][j+1] = 0\n",
    "                ladder -= 1\n",
    "                \n",
    "if not check(row, col, matrix):\n",
    "    make_ladder(row, col, matrix, ladder, 0, 0)\n",
    "    print(answer)\n",
    "else:\n",
    "    print(0)"
   ]
  },
  {
   "cell_type": "code",
   "execution_count": 61,
   "metadata": {},
   "outputs": [],
   "source": [
    "# 2 0 3\n",
    "## 0\n",
    "\n",
    "# 2 1 3\n",
    "# 1 1\n",
    "## 1\n",
    "\n",
    "# 5 5 6\n",
    "# 1 1\n",
    "# 3 2\n",
    "# 2 3\n",
    "# 5 1\n",
    "# 5 4\n",
    "## 3\n",
    "\n",
    "# 6 5 6\n",
    "# 1 1\n",
    "# 3 2\n",
    "# 1 3\n",
    "# 2 5\n",
    "# 5 5\n",
    "## 3"
   ]
  }
 ],
 "metadata": {
  "kernelspec": {
   "display_name": "Python 3",
   "language": "python",
   "name": "python3"
  },
  "language_info": {
   "codemirror_mode": {
    "name": "ipython",
    "version": 3
   },
   "file_extension": ".py",
   "mimetype": "text/x-python",
   "name": "python",
   "nbconvert_exporter": "python",
   "pygments_lexer": "ipython3",
   "version": "3.8.1"
  }
 },
 "nbformat": 4,
 "nbformat_minor": 4
}
