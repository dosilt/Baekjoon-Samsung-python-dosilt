{
 "cells": [
  {
   "cell_type": "code",
   "execution_count": 45,
   "metadata": {},
   "outputs": [
    {
     "name": "stdout",
     "output_type": "stream",
     "text": [
      "7\n"
     ]
    }
   ],
   "source": [
    "# gears = ['' for _ in range(4)]\n",
    "# for i in range(len(gears)):\n",
    "#     gears[i] = input()\n",
    "# command = int(input())\n",
    "# action = [0 for _ in range(command)]\n",
    "# for i in range(command):\n",
    "#     action[i] = list(map(int, input().split(' ')))\n",
    "\n",
    "gears = ['10101111', '01111101', '11001110', '00000010']\n",
    "command = 2\n",
    "action = [[3, -1], [1, 1]]\n",
    "# rotate 1 == CW, -1 = CCW\n",
    "for gear, rotate in action:\n",
    "    com = [0 for i in range(3)]\n",
    "    for i in range(1, 4):\n",
    "        if gears[i-1][2] !=  gears[i][6]:\n",
    "            com[i-1] = [1, 0]\n",
    "        else:\n",
    "            com[i-1] = [0, 0]   \n",
    "    com.insert(gear-1, [0, rotate])\n",
    "    if rotate == 1:\n",
    "        gears[gear-1] = gears[gear-1][-1] + gears[gear-1][:-1]\n",
    "    else:\n",
    "        gears[gear-1] = gears[gear-1][1:] + gears[gear-1][0]\n",
    "        \n",
    "    \n",
    "    # com 이 1이면 같이 돌아감, com 이 0 이면 안돌아감\n",
    "    for i in range(gear, 4):\n",
    "        if com[i][0] == 1:\n",
    "            if com[i-1][1] == -1:\n",
    "                com[i][1] = 1\n",
    "                gears[i] = gears[i][-1] + gears[i][:-1]\n",
    "            else:\n",
    "                com[i][1] = -1\n",
    "                gears[i] = gears[i][1:] + gears[i][0]\n",
    "        else:\n",
    "            break\n",
    "            \n",
    "    for i in range(gear-2, -1, -1):\n",
    "        if com[i][0] == 1:\n",
    "            if com[i+1][1] == -1:\n",
    "                com[i][1] = 1\n",
    "                gears[i] = gears[i][-1] + gears[i][:-1]\n",
    "            else:\n",
    "                com[i][1] = -1\n",
    "                gears[i] = gears[i][1:] + gears[i][0]\n",
    "        else:\n",
    "            break\n",
    "answer = [int(g[0])*2**n for n, g in enumerate(gears)]\n",
    "print(sum(answer))"
   ]
  },
  {
   "cell_type": "code",
   "execution_count": 2,
   "metadata": {},
   "outputs": [],
   "source": [
    "# 10101111\n",
    "# 01111101\n",
    "# 11001110\n",
    "# 00000010\n",
    "# 2\n",
    "# 3 -1\n",
    "# 1 1\n",
    "## 7\n",
    "\n",
    "# 11111111\n",
    "# 11111111\n",
    "# 11111111\n",
    "# 11111111\n",
    "# 3\n",
    "# 1 1\n",
    "# 2 1\n",
    "# 3 1\n",
    "## 15\n",
    "\n",
    "# 10001011\n",
    "# 10000011\n",
    "# 01011011\n",
    "# 00111101\n",
    "# 5\n",
    "# 1 1\n",
    "# 2 1\n",
    "# 3 1\n",
    "# 4 1\n",
    "# 1 -1\n",
    "## 6"
   ]
  },
  {
   "cell_type": "code",
   "execution_count": null,
   "metadata": {},
   "outputs": [],
   "source": []
  }
 ],
 "metadata": {
  "kernelspec": {
   "display_name": "Python 3",
   "language": "python",
   "name": "python3"
  },
  "language_info": {
   "codemirror_mode": {
    "name": "ipython",
    "version": 3
   },
   "file_extension": ".py",
   "mimetype": "text/x-python",
   "name": "python",
   "nbconvert_exporter": "python",
   "pygments_lexer": "ipython3",
   "version": "3.8.1"
  }
 },
 "nbformat": 4,
 "nbformat_minor": 4
}
