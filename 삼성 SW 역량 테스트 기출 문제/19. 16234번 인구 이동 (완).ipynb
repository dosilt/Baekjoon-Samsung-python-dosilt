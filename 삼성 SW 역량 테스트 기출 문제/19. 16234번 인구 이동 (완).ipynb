{
 "cells": [
  {
   "cell_type": "markdown",
   "metadata": {},
   "source": [
    "# https://www.acmicpc.net/problem/16234"
   ]
  },
  {
   "cell_type": "code",
   "execution_count": 67,
   "metadata": {},
   "outputs": [
    {
     "name": "stdout",
     "output_type": "stream",
     "text": [
      "2\n"
     ]
    }
   ],
   "source": [
    "# N, low, high = list(map(int, input().split(' ')))\n",
    "# matrix = [list(map(int, input().split(' '))) for i in range(N)]\n",
    "\n",
    "# N, low, high = 2, 20, 50\n",
    "# matrix = [[50, 30], [20, 40]]\n",
    "\n",
    "# N, low, high = 2, 40, 50\n",
    "# matrix = [[50, 30], [20, 40]]\n",
    "\n",
    "N, low, high = 3, 5, 10\n",
    "matrix = [[10, 15, 20], [20, 30, 25], [40, 22, 10]]\n",
    "\n",
    "# N, low, high = 4, 10, 50\n",
    "# matrix = [[10, 100, 20, 90], [80, 100, 60, 70], [70, 20, 30, 40], [50, 20, 100, 10]]\n",
    "\n",
    "import sys\n",
    "sys.setrecursionlimit(10**6)\n",
    "\n",
    "dx = (1, 0, -1, 0)\n",
    "dy = (0, 1, 0, -1)\n",
    "answer = 0\n",
    "\n",
    "def dfs(matrix, i, j, count):\n",
    "    global visited\n",
    "    d[count].append((i, j))\n",
    "    visited[i][j] = 1\n",
    "    sum_[count] += matrix[i][j]\n",
    "    for num in range(4):\n",
    "        nx, ny = i+dx[num], j + dy[num]\n",
    "        if 0 <= nx < N and 0 <= ny < N and visited[nx][ny] == 0 and \\\n",
    "        low <= abs(matrix[i][j] - matrix[nx][ny]) <= high:\n",
    "            dfs(matrix, nx, ny, count)\n",
    "    \n",
    "while True:\n",
    "    count = 0\n",
    "    d = dict()\n",
    "    sum_ = dict()\n",
    "    visited = [[0 for _ in range(N)] for _ in range(N)]\n",
    "    \n",
    "    for i in range(N):\n",
    "        for j in range(N):\n",
    "            if visited[i][j] == 0:\n",
    "                d[count] = []\n",
    "                sum_[count] = 0\n",
    "                dfs(matrix, i, j, count)\n",
    "                count += 1\n",
    "                \n",
    "    if count == N**2:\n",
    "        break\n",
    "        \n",
    "    for i in d:\n",
    "        for x, y in d[i]:\n",
    "            matrix[x][y] = sum_[i] // len(d[i])\n",
    "    answer += 1\n",
    "print(answer)"
   ]
  },
  {
   "cell_type": "code",
   "execution_count": 21,
   "metadata": {},
   "outputs": [],
   "source": [
    "# 위의 코드는 dfs 이지만 queue를 이용한 bfs 로 한번 구현해보자"
   ]
  },
  {
   "cell_type": "code",
   "execution_count": 64,
   "metadata": {},
   "outputs": [
    {
     "name": "stdout",
     "output_type": "stream",
     "text": [
      "3\n"
     ]
    }
   ],
   "source": [
    "# N, low, high = list(map(int, input().split(' ')))\n",
    "# matrix = [list(map(int, input().split(' '))) for i in range(N)]\n",
    "\n",
    "# N, low, high = 2, 20, 50\n",
    "# matrix = [[50, 30], [20, 40]]\n",
    "\n",
    "# N, low, high = 2, 40, 50\n",
    "# matrix = [[50, 30], [20, 40]]\n",
    "\n",
    "# N, low, high = 3, 5, 10\n",
    "# matrix = [[10, 15, 20], [20, 30, 25], [40, 22, 10]]\n",
    "\n",
    "N, low, high = 4, 10, 50\n",
    "matrix = [[10, 100, 20, 90], [80, 100, 60, 70], [70, 20, 30, 40], [50, 20, 100, 10]]\n",
    "\n",
    "\n",
    "from collections import deque\n",
    "\n",
    "def bfs(matrix, q, visited, count, d, sum_):\n",
    "    dx = (-1, 1, 0, 0)\n",
    "    dy = (0, 0, -1, 1)\n",
    "    while q:\n",
    "        x, y = q.popleft()\n",
    "        for i in range(4):\n",
    "            nx, ny = x+dx[i], y+dy[i]\n",
    "            if 0<=nx<N and 0<=ny<N and visited[nx][ny] == 0 and low<=abs(matrix[x][y] - matrix[nx][ny])<=high:\n",
    "                q.append((nx, ny))\n",
    "                d[count].add((nx, ny))\n",
    "                sum_[count] += matrix[nx][ny]\n",
    "                visited[nx][ny] = 1\n",
    "\n",
    "answer = 0\n",
    "\n",
    "while True:\n",
    "    visited = [[0 for _ in range(N)] for _ in range(N)]\n",
    "    q = deque([])\n",
    "    d = dict()\n",
    "    sum_ = dict()\n",
    "    count = 0\n",
    "    for i in range(N):\n",
    "        for j in range(N):\n",
    "            if visited[i][j] == 0:\n",
    "                visited[i][j] = 1\n",
    "                q.append((i, j))\n",
    "                d[count] = {(i, j)}\n",
    "                sum_[count] = matrix[i][j]\n",
    "                bfs(matrix, q, visited, count, d, sum_)\n",
    "                count += 1\n",
    "    \n",
    "    if count == N**2:\n",
    "        break\n",
    "        \n",
    "    for i in d:\n",
    "        for x, y in d[i]:\n",
    "            matrix[x][y] = sum_[i] // len(d[i])\n",
    "    answer += 1\n",
    "    \n",
    "print(answer)"
   ]
  },
  {
   "cell_type": "markdown",
   "metadata": {},
   "source": [
    "# 해설\n",
    "이 문제를 풀기 위해 DFS와 BFS 2가지의 방법을 이용해 보았다.\n",
    "\n",
    "첫 번째 코드는 BFS를 이용한 깊이 우선 탐색 방식이며\n",
    "\n",
    "두 번째 코드는 DFS를 이용한 너비 우선 탐색 방식이다.\n",
    "\n",
    "통과 여부를 말하자면 두 번째 코드는 Pypy3으로 컴파일 했을시 통과할 수 있다.\n",
    "\n",
    "두 문제의 풀이는 같은 방법인데\n",
    "\n",
    "우선 visited를 이용해 방문 노드를 파악하며 abs(matrix[x][y] - matrix[nx][ny]) 를 통해 초기에 주어진\n",
    "\n",
    "low와 high 조건에 맞는지 확인후에 그룹화를 해주는 것이다. 그룹화가 끝나면\n",
    "\n",
    "그룹화 된 나라끼리 인구를 모두 더한뒤 나라의 수로 나눠주어 몫만 이용하여 다시 인구를 재 분배 하는것인데,\n",
    "\n",
    "여기서 그룹화 할때 인구수를 더해 주지 않을 경우 나중에 한번더 for문을 돌면서 인구를 더해야 하기 때문에\n",
    "\n",
    "시간초과가 발생한다. 따라서 그룹화시에 더해주는게 중요하다. 이후에는 이 문을 반복하면 된다."
   ]
  },
  {
   "cell_type": "code",
   "execution_count": null,
   "metadata": {},
   "outputs": [],
   "source": []
  }
 ],
 "metadata": {
  "kernelspec": {
   "display_name": "Python 3",
   "language": "python",
   "name": "python3"
  },
  "language_info": {
   "codemirror_mode": {
    "name": "ipython",
    "version": 3
   },
   "file_extension": ".py",
   "mimetype": "text/x-python",
   "name": "python",
   "nbconvert_exporter": "python",
   "pygments_lexer": "ipython3",
   "version": "3.8.1"
  }
 },
 "nbformat": 4,
 "nbformat_minor": 4
}
