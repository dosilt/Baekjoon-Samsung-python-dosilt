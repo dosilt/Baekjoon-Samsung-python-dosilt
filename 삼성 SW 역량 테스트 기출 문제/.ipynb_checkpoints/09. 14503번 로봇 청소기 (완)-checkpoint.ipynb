{
 "cells": [
  {
   "cell_type": "markdown",
   "metadata": {},
   "source": [
    "# https://www.acmicpc.net/problem/14503"
   ]
  },
  {
   "cell_type": "code",
   "execution_count": 3,
   "metadata": {},
   "outputs": [
    {
     "name": "stdout",
     "output_type": "stream",
     "text": [
      "3 3\n",
      "1 1 0\n",
      "1 1 1\n",
      "1 0 1\n",
      "1 1 1\n",
      "1\n"
     ]
    }
   ],
   "source": [
    "def move(matrix, row, col, r_row, r_col, direct, di, dn, answer):\n",
    "    if matrix[r_row][r_col] == 0: # 현재 위치를 청소함\n",
    "        matrix[r_row][r_col] = 2\n",
    "        answer += 1\n",
    "    \n",
    "    for i in range(4):\n",
    "        direct = di[direct] # 방향을 전환하기 위한 dict 변수\n",
    "        n_row = r_row + dn[direct][0] # 전진 했을 때 위치\n",
    "        n_col = r_col + dn[direct][1] # 전진 했을 때 위치\n",
    "        if n_row > row or n_row < 0 or n_col > col or n_col < 0: # 전진한 위치가 matrix 범위를 벗어났을 경우 처음으로 돌아감\n",
    "            continue\n",
    "        \n",
    "        if matrix[n_row][n_col] == 0: # 청소가 안되어 있다면 그 좌표를 return 함\n",
    "            return matrix, direct, n_row, n_col, answer\n",
    "        \n",
    "    ## 후진 (4방향이 모두 청소 되어 있을 경우에 들어옴)\n",
    "    r_row -= dn[direct][0] \n",
    "    r_col -= dn[direct][1]\n",
    "    \n",
    "    if matrix[r_row][r_col] == 1: # 후진한 위치가 벽이 였을 경우 종료를 하기 위해 direct 에 5를 return\n",
    "        return matrix, 5, r_row, r_col, answer\n",
    "    \n",
    "    return matrix, direct, r_row, r_col, answer # 후진한 위치를 return\n",
    "\n",
    "di = {0:3, 1:0, 2:1, 3:2}\n",
    "dn = {0:(-1, 0), 1:(0, 1), 2:(1, 0), 3:(0, -1)}\n",
    "answer = 0\n",
    "\n",
    "# 0인 경우에는 북쪽을, 1인 경우에는 동쪽을, 2인 경우에는 남쪽을, 3인 경우에는 서쪽\n",
    "\n",
    "row, col = list(map(int, input().strip().split(' ')))\n",
    "r_row, r_col, direct = list(map(int, input().strip().split(' ')))\n",
    "matrix = [0 for _ in range(row)]\n",
    "for i in range(row):\n",
    "    matrix[i] = list(map(int, input().strip().split(' ')))\n",
    "\n",
    "while True:\n",
    "    matrix, direct, r_row, r_col, answer = move(matrix, row, col, r_row, r_col, direct, di, dn, answer)\n",
    "    if direct == 5:\n",
    "        break\n",
    "print(answer)"
   ]
  },
  {
   "cell_type": "markdown",
   "metadata": {},
   "source": [
    "# 해설\n",
    "문제에서 주어진 조건에 맞게 코딩을 하면 된다.\n",
    "\n",
    "1. 현재 위치를 청소한다.\n",
    "\n",
    "2. 현재 위치에서 현재 방향을 기준으로 왼쪽방향부터 차례대로 탐색을 진행한다.\n",
    "\n",
    "    a. 왼쪽 방향에 아직 청소하지 않은 공간이 존재한다면, 그 방향으로 회전한 다음 한 칸을 전진하고 1번부터 진행한다.\n",
    "    \n",
    "    b. 왼쪽 방향에 청소할 공간이 없다면, 그 방향으로 회전하고 2번으로 돌아간다.\n",
    "    \n",
    "    c. 네 방향 모두 청소가 이미 되어있거나 벽인 경우에는, 바라보는 방향을 유지한 채로 한 칸 후진을 하고 2번으로 돌아간다.\n",
    "    \n",
    "    d. 네 방향 모두 청소가 이미 되어있거나 벽이면서, 뒤쪽 방향이 벽이라 후진도 할 수 없는 경우에는 작동을 멈춘다.\n",
    "    \n",
    "위의 조건이 문제에서 주어진 것이며, 즉 간단하게 해석하자면\n",
    "\n",
    "로봇의 위치에서 상 하 좌 우 4방향이 모두 청소가 완료되어 있다면 뒤로 후진을 하고\n",
    "\n",
    "상 하 좌 우에 청소가 안된 부분이 있는지 확인하고 안되있다면 그 방향으로 전진하여 청소를 하며\n",
    "\n",
    "위 조건을 반복하는 것이다."
   ]
  },
  {
   "cell_type": "code",
   "execution_count": null,
   "metadata": {},
   "outputs": [],
   "source": []
  }
 ],
 "metadata": {
  "kernelspec": {
   "display_name": "Python 3",
   "language": "python",
   "name": "python3"
  },
  "language_info": {
   "codemirror_mode": {
    "name": "ipython",
    "version": 3
   },
   "file_extension": ".py",
   "mimetype": "text/x-python",
   "name": "python",
   "nbconvert_exporter": "python",
   "pygments_lexer": "ipython3",
   "version": "3.8.1"
  }
 },
 "nbformat": 4,
 "nbformat_minor": 4
}
