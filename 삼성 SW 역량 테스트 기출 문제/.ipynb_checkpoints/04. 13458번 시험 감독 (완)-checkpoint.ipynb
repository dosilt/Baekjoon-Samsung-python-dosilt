{
 "cells": [
  {
   "cell_type": "markdown",
   "metadata": {},
   "source": [
    "# https://www.acmicpc.net/problem/13458"
   ]
  },
  {
   "cell_type": "code",
   "execution_count": 1,
   "metadata": {},
   "outputs": [
    {
     "name": "stdout",
     "output_type": "stream",
     "text": [
      "5\n",
      "1000000 1000000 1000000 1000000 1000000\n",
      "5 7\n",
      "714290\n"
     ]
    }
   ],
   "source": [
    "N = int(input().strip())\n",
    "classes = list(map(int, input().strip().split(' ')))\n",
    "main, sub = list(map(int, input().strip().split(' ')))\n",
    "answer = 0\n",
    "\n",
    "for i in classes: # classes 에 class당 학생수가 들어 있다.\n",
    "    i -= main     # 총 감독이 관리 할 수 있는 학생 수를 뺀다 (총 감독은 class마다 한명씩 꼭 필요하기 때문이다.)\n",
    "    answer += 1   # 관리 인원 += 1\n",
    "    if i > 0:     # 남은 학생 수가 0보다 클 때 (관리해야 할 학생이 남아 있을 때)\n",
    "        answer += ((i-1) // sub) +1 # 관리 인원 += 필요한 부 감독의 수\n",
    "print(answer)"
   ]
  },
  {
   "cell_type": "markdown",
   "metadata": {},
   "source": [
    "# 해설\n",
    "첫 번째 input으로 class의 개수가 들어오고\n",
    "두 번째 input으로 그 class의 학생 수가 들어온다\n",
    "마지막 input으로 총 감독과 부 감독이 관리 가능한 학생 수가 주어진다.\n",
    "\n",
    "class단 무조건 1명의 총 감독이 있어야 하고, 나머지 학생들을 관리할 부 감독이 필요하다.\n",
    "\n",
    "이때 총 감독 + 부 감독의 수를 구하는 문제이다.\n",
    "\n",
    "주어진 조건대로 잘 따라하면 된다."
   ]
  }
 ],
 "metadata": {
  "kernelspec": {
   "display_name": "Python 3",
   "language": "python",
   "name": "python3"
  },
  "language_info": {
   "codemirror_mode": {
    "name": "ipython",
    "version": 3
   },
   "file_extension": ".py",
   "mimetype": "text/x-python",
   "name": "python",
   "nbconvert_exporter": "python",
   "pygments_lexer": "ipython3",
   "version": "3.8.1"
  }
 },
 "nbformat": 4,
 "nbformat_minor": 4
}
