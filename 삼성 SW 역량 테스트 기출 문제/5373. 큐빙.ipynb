{
 "cells": [
  {
   "cell_type": "code",
   "execution_count": 102,
   "metadata": {
    "scrolled": false
   },
   "outputs": [
    {
     "name": "stdout",
     "output_type": "stream",
     "text": [
      "0\n",
      "['r', 'w', 'w']\n",
      "['r', 'w', 'w']\n",
      "['r', 'w', 'w']\n",
      "1\n",
      "['b', 'b', 'b']\n",
      "['w', 'w', 'w']\n",
      "['g', 'g', 'g']\n",
      "2\n",
      "['r', 'w', 'g']\n",
      "['o', 'w', 'r']\n",
      "['r', 'w', 'b']\n",
      "3\n",
      "['g', 'w', 'g']\n",
      "['w', 'w', 'w']\n",
      "['r', 'w', 'w']\n"
     ]
    }
   ],
   "source": [
    "# command_count = int(input())\n",
    "# d = dict()\n",
    "# for i in range(command_count):\n",
    "#     a = int(input())\n",
    "#     d[i] = list(input().split(' '))\n",
    "\n",
    "command_count = 4\n",
    "d = dict()\n",
    "d[0] = ['L-']\n",
    "d[1] = ['F+', 'B+']\n",
    "d[2] = ['U-', 'D-', 'L+', 'R+']\n",
    "d[3] = ['L-', 'U-', 'L+', 'U-', 'L-', 'U-', 'U-', 'L+', 'U+', 'U+']\n",
    "    \n",
    "cubes = [[[0 for _ in range(3)] for _ in range(3)] for _ in range(6)]\n",
    "# up, front, left, right, back, down\n",
    "# w, r, g, b, o, y\n",
    "color = ['w', 'r', 'g', 'b', 'o', 'y']\n",
    "loc = {'U':0, 'F':1, 'L':2, 'R':3, 'B':4, 'D':5}\n",
    "for area in range(6):\n",
    "    for i in range(3):\n",
    "        for j in range(3):\n",
    "            cubes[area][i][j] = color[area]\n",
    "\n",
    "command = {'F+':[[0, 2, 3], [3, 2, 3], [5, 0, 3], [2, 2, 3]], 'B+':[[0, 0, 3], [2, 0, 3], [5, 2, 3], [3, 0, 3]], \n",
    "           'U+':[[1, 0, 3], [2, 3, 2], [4, 2, 3], [3, 3, 0]], 'D+':[[1, 2, 3], [3, 3, 2], [4, 0, 3], [2, 3, 0]],\n",
    "           'R+':[[0, 3, 2], [4, 3, 2], [5, 3, 2], [1, 3, 2]], 'L+':[[0, 3, 0], [1, 3, 0], [5, 3, 0], [4, 3, 0]],\n",
    "           'B-':[[0, 0, 3], [3, 0, 3], [5, 2, 3], [2, 0, 3]], 'F-':[[0, 2, 3], [2, 2, 3], [5, 0, 3], [3, 2, 3]], \n",
    "           'D-':[[1, 2, 3], [2, 3, 0], [4, 0, 3], [3, 3, 2]], 'U-':[[1, 0, 3], [3, 3, 0], [4, 2, 3], [2, 3, 2]],\n",
    "           'L-':[[0, 3, 0], [4, 3, 0], [5, 3, 0], [1, 3, 0]], 'R-':[[0, 3, 2], [1, 3, 2], [5, 3, 2], [4, 3, 2]]}\n",
    "import copy\n",
    "for com in range(command_count):\n",
    "    cube = copy.deepcopy(cubes)\n",
    "    print(com)\n",
    "\n",
    "    for act in d[com]:\n",
    "        temp = ['', '', '']\n",
    "        temp_ = ['', '', '']\n",
    "        if command[act][0][1] == 3: # row\n",
    "            for hu in range(3):\n",
    "                temp[hu] = cube[command[act][0][0]][hu][command[act][0][2]]\n",
    "        else:\n",
    "            for hu in range(3):\n",
    "                temp[hu] = cube[command[act][0][0]][command[act][0][1]][hu]\n",
    "                \n",
    "        for area, row, col in command[act][1:]:\n",
    "            if row == 3: # row 가 가변\n",
    "                for change in range(3):\n",
    "                    temp_[change] = cube[area][change][col]\n",
    "                    cube[area][change][col] = temp[change]\n",
    "\n",
    "            else:\n",
    "                for change in range(3):\n",
    "                    temp_[change] = cube[area][row][change]\n",
    "                    cube[area][row][change] = temp[change]\n",
    "\n",
    "        for area, row, col in command[act][:1]:\n",
    "            if row == 3: # row 가 가변\n",
    "                for change in range(3):\n",
    "                    cube[area][change][col] = temp_[change]\n",
    "\n",
    "            else:\n",
    "                for change in range(3):\n",
    "                    cube[area][row][change] = temp_[change]\n",
    "        temp_matrix = copy.deepcopy(cube[loc[act[0]]])\n",
    "        \n",
    "        if act[1] == '+':\n",
    "            for i in range(3):\n",
    "                for j in range(3):\n",
    "                    cube[loc[act[0]]][i][j] = temp_matrix[2-j][i]\n",
    "        else:\n",
    "            for i in range(3):\n",
    "                for j in range(3):\n",
    "                    cube[loc[act[0]]][i][j] = temp_matrix[j][2-i]\n",
    "            \n",
    "    for c in cube[0]:\n",
    "        print(c)"
   ]
  },
  {
   "cell_type": "code",
   "execution_count": 75,
   "metadata": {},
   "outputs": [],
   "source": [
    "# 4\n",
    "# 1\n",
    "# L-\n",
    "# 2\n",
    "# F+ B+\n",
    "# 4\n",
    "# U- D- L+ R+\n",
    "# 10\n",
    "# L- U- L+ U- L- U- U- L+ U+ U+\n",
    "# rww\n",
    "# rww\n",
    "# rww\n",
    "# bbb\n",
    "# www\n",
    "# ggg\n",
    "# gwg\n",
    "# owr\n",
    "# bwb\n",
    "# gwo\n",
    "# www\n",
    "# rww"
   ]
  },
  {
   "cell_type": "code",
   "execution_count": 103,
   "metadata": {},
   "outputs": [
    {
     "name": "stdout",
     "output_type": "stream",
     "text": [
      "[7, 4, 1]\n",
      "[8, 5, 2]\n",
      "[9, 6, 3]\n",
      "[1, 2, 3]\n",
      "[4, 5, 6]\n",
      "[7, 8, 9]\n"
     ]
    }
   ],
   "source": [
    "aaaa = [[1, 2, 3], [4, 5, 6], [7, 8, 9]]\n",
    "bbbb = copy.deepcopy(aaaa)\n",
    "\n",
    "for i in range(3):\n",
    "    for j in range(3):\n",
    "        aaaa[i][j] = bbbb[2-j][i]\n",
    "        \n",
    "for i in aaaa:\n",
    "    print(i)\n",
    "    \n",
    "for i in bbbb:\n",
    "    print(i)"
   ]
  },
  {
   "cell_type": "code",
   "execution_count": null,
   "metadata": {},
   "outputs": [],
   "source": []
  }
 ],
 "metadata": {
  "kernelspec": {
   "display_name": "Python 3",
   "language": "python",
   "name": "python3"
  },
  "language_info": {
   "codemirror_mode": {
    "name": "ipython",
    "version": 3
   },
   "file_extension": ".py",
   "mimetype": "text/x-python",
   "name": "python",
   "nbconvert_exporter": "python",
   "pygments_lexer": "ipython3",
   "version": "3.8.1"
  }
 },
 "nbformat": 4,
 "nbformat_minor": 4
}
